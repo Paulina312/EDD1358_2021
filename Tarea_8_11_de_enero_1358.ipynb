{
  "nbformat": 4,
  "nbformat_minor": 0,
  "metadata": {
    "colab": {
      "name": "Tarea 8. 11 de enero_1358.ipynb",
      "provenance": [],
      "collapsed_sections": [],
      "authorship_tag": "ABX9TyP0jGlQaJy48qZI6oTFOYjS",
      "include_colab_link": true
    },
    "kernelspec": {
      "name": "python3",
      "display_name": "Python 3"
    }
  },
  "cells": [
    {
      "cell_type": "markdown",
      "metadata": {
        "id": "view-in-github",
        "colab_type": "text"
      },
      "source": [
        "<a href=\"https://colab.research.google.com/github/Paulina312/EDD1358_2021/blob/master/Tarea_8_11_de_enero_1358.ipynb\" target=\"_parent\"><img src=\"https://colab.research.google.com/assets/colab-badge.svg\" alt=\"Open In Colab\"/></a>"
      ]
    },
    {
      "cell_type": "code",
      "metadata": {
        "id": "JtqcRX-r6KMk"
      },
      "source": [
        "class Queue:\r\n",
        "  def __init__(self):\r\n",
        "    self.__data = list()\r\n",
        "\r\n",
        "  def is_empty(self):\r\n",
        "    return len(self.__data) == 0\r\n",
        "  \r\n",
        "  def lenght(self):\r\n",
        "    return len(self.__data)\r\n",
        "  \r\n",
        "  def enqueue(self, item):\r\n",
        "    self.__data.append(item)\r\n",
        "  \r\n",
        "  def dequeue(self):\r\n",
        "    if not self.is_empty():\r\n",
        "      return self.__data.pop(0)\r\n",
        "    else:\r\n",
        "      return None\r\n",
        "\r\n",
        "  def to_string(self):\r\n",
        "    cadena = \"\"\r\n",
        "    for elem in self.__data:\r\n",
        "      cadena = cadena + \"| \" + elem\r\n",
        "    cadena = cadena + \"|\"\r\n",
        "    return cadena"
      ],
      "execution_count": 2,
      "outputs": []
    },
    {
      "cell_type": "code",
      "metadata": {
        "id": "BOtOdsoV6uqu"
      },
      "source": [
        "class PriorityQueue:\r\n",
        "  def __init__(self):\r\n",
        "    self.__data = [Queue()]\r\n",
        "    self.__size = 0\r\n",
        "  \r\n",
        "  def is_empty(self):\r\n",
        "    return self.__size == 0\r\n",
        "\r\n",
        "  def lenght(self):\r\n",
        "    return self.__size\r\n",
        "\r\n",
        "  def enqueue(self, prioridad, elem):\r\n",
        "    if prioridad < len(self.__data) and prioridad >= 0:\r\n",
        "      self.__data[prioridad].enqueue(elem)\r\n",
        "      self.__size += 1\r\n",
        "    elif prioridad >= len(self.__data) and prioridad >= 0:\r\n",
        "      while prioridad >= len(self.__data):\r\n",
        "        self.__data.append(Queue())\r\n",
        "      self.__data[prioridad].enqueue(elem)\r\n",
        "      self.__size += 1\r\n",
        "    else:\r\n",
        "      print(\"La prioridad esta fuera de rango\")\r\n",
        "  \r\n",
        "  def dequeue(self):\r\n",
        "    if not self.is_empty():\r\n",
        "      n = 0\r\n",
        "      while self.__data[n].is_empty():\r\n",
        "        n +=1\r\n",
        "      self.__size -= 1\r\n",
        "      return self.__data[n].dequeue()\r\n",
        "    else:\r\n",
        "      return None\r\n",
        "\r\n",
        "  def to_string(self):\r\n",
        "    print(\"Lista de compras\")\r\n",
        "    for nivel in range(len(self.__data)):\r\n",
        "      print(f\"Nivel {nivel} --> {self.__data[nivel].to_string()} \")"
      ],
      "execution_count": 9,
      "outputs": []
    },
    {
      "cell_type": "code",
      "metadata": {
        "colab": {
          "base_uri": "https://localhost:8080/"
        },
        "id": "QVjlPZEvE_TN",
        "outputId": "8ed5ed68-a18e-47a7-d1f8-acb8e1422033"
      },
      "source": [
        "compras = PriorityQueue()\r\n",
        "compras.enqueue( 3,\"helado\" )\r\n",
        "compras.enqueue( 4,\"ropa\" )\r\n",
        "compras.enqueue( 0,\"verduras\" )\r\n",
        "compras.enqueue( 2,\"carne\" )\r\n",
        "compras.enqueue( 1,\"pasta de dientes\" )\r\n",
        "compras.enqueue( 0,\"frutas\" )\r\n",
        "compras.enqueue( 2,\"pan\" )\r\n",
        "compras.enqueue( 3,\"botana\" )\r\n",
        "compras.to_string()\r\n",
        "print(compras.dequeue())\r\n",
        "compras.to_string()"
      ],
      "execution_count": 10,
      "outputs": [
        {
          "output_type": "stream",
          "text": [
            "Lista de compras\n",
            "Nivel 0 --> | verduras| frutas| \n",
            "Nivel 1 --> | pasta de dientes| \n",
            "Nivel 2 --> | carne| pan| \n",
            "Nivel 3 --> | helado| botana| \n",
            "Nivel 4 --> | ropa| \n",
            "verduras\n",
            "Lista de compras\n",
            "Nivel 0 --> | frutas| \n",
            "Nivel 1 --> | pasta de dientes| \n",
            "Nivel 2 --> | carne| pan| \n",
            "Nivel 3 --> | helado| botana| \n",
            "Nivel 4 --> | ropa| \n"
          ],
          "name": "stdout"
        }
      ]
    }
  ]
}