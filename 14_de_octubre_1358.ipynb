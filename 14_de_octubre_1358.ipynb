{
  "nbformat": 4,
  "nbformat_minor": 0,
  "metadata": {
    "colab": {
      "name": "14 de octubre_1358.ipynb",
      "provenance": [],
      "toc_visible": true,
      "authorship_tag": "ABX9TyN+GtAR3tXMrWqRA14SE9Dj",
      "include_colab_link": true
    },
    "kernelspec": {
      "name": "python3",
      "display_name": "Python 3"
    }
  },
  "cells": [
    {
      "cell_type": "markdown",
      "metadata": {
        "id": "view-in-github",
        "colab_type": "text"
      },
      "source": [
        "<a href=\"https://colab.research.google.com/github/Paulina312/EDD1358_2021/blob/master/14_de_octubre_1358.ipynb\" target=\"_parent\"><img src=\"https://colab.research.google.com/assets/colab-badge.svg\" alt=\"Open In Colab\"/></a>"
      ]
    },
    {
      "cell_type": "code",
      "metadata": {
        "id": "dK5ML1FKpks7",
        "outputId": "39684e1d-9a68-42b5-e5bb-70c84474879b",
        "colab": {
          "base_uri": "https://localhost:8080/",
          "height": 102
        }
      },
      "source": [
        "def calcular (a, b, c):\n",
        "  x=a + (b / c)\n",
        "  return x\n",
        "\n",
        "print(calcular (5, 9, 3))\n",
        "# se pueden poner los valores en desorden pero hay que especificar cual es cada uno:\n",
        "print(calcular (a=5, c=3, b=9))\n",
        "\n",
        "# si en la declaración de una función definimos valores, estamos colocando valores por defecto\n",
        "def calcular_v2( a=10, b=20, c=5):\n",
        "  x= a + (b/c)\n",
        "  return x\n",
        "print(calcular_v2()) \n",
        "#podemos modificar esos valores por defecto, estos se sustituyen por posición sino son definidos\n",
        "print(calcular_v2(40))\n",
        "print(calcular_v2(c=2, a=40, b=8))"
      ],
      "execution_count": 5,
      "outputs": [
        {
          "output_type": "stream",
          "text": [
            "8.0\n",
            "8.0\n",
            "14.0\n",
            "44.0\n",
            "44.0\n"
          ],
          "name": "stdout"
        }
      ]
    },
    {
      "cell_type": "markdown",
      "metadata": {
        "id": "NudPpxZKrvbk"
      },
      "source": [
        "# Argumentos a funciones por tupla*\n",
        "se envían los argumentos en un conjunto de elementos dentro de una Tupla"
      ]
    },
    {
      "cell_type": "code",
      "metadata": {
        "id": "3EGliiBPr8HO",
        "outputId": "39461a57-5e84-409f-b7e8-cd3e2a640365",
        "colab": {
          "base_uri": "https://localhost:8080/",
          "height": 51
        }
      },
      "source": [
        "def calculo( *elem ):# no olvidar --> * <--\n",
        "  print(elem)\n",
        "  x= elem[0] +(elem[1]/elem[2])\n",
        "  return x\n",
        "\n",
        "print( calculo(5, 9, 3, 8, 8))"
      ],
      "execution_count": 9,
      "outputs": [
        {
          "output_type": "stream",
          "text": [
            "(5, 9, 3, 8, 8)\n",
            "8.0\n"
          ],
          "name": "stdout"
        }
      ]
    },
    {
      "cell_type": "markdown",
      "metadata": {
        "id": "LXn1PaJds006"
      },
      "source": [
        "#Argumentos como un diccionario**"
      ]
    },
    {
      "cell_type": "code",
      "metadata": {
        "id": "mX9HeQsbs4Gu",
        "outputId": "19d56fa1-1eba-421d-e175-765fdd7eb366",
        "colab": {
          "base_uri": "https://localhost:8080/",
          "height": 51
        }
      },
      "source": [
        "def calculo(**elem): # # no olvidar --> ** <--\n",
        "  print(elem)\n",
        "  x = elem['a'] +(elem['b']/elem['c'])\n",
        "  return x \n",
        "\n",
        "print( calculo( a=5, b=9, c=3 ))"
      ],
      "execution_count": 12,
      "outputs": [
        {
          "output_type": "stream",
          "text": [
            "{'a': 5, 'b': 9, 'c': 3}\n",
            "8.0\n"
          ],
          "name": "stdout"
        }
      ]
    },
    {
      "cell_type": "markdown",
      "metadata": {
        "id": "X2BPM8Bw2s0o"
      },
      "source": [
        "# Archivos\n",
        "- abrirlos\n",
        "    - un str con la ruta del archivo\n",
        "    -dos caracteres :1 -> modo de apertura(r,w) y el 2 formato(texto o Binario)\n",
        "- leerlos\n",
        "-modificarlos\n"
      ]
    },
    {
      "cell_type": "code",
      "metadata": {
        "id": "QXx6oo8S3Ls4"
      },
      "source": [
        "#<---- en la carpeta aparece el archivo que vamos a crear\n",
        "archivo = open('ejemplo.txt', 'wt')\n",
        "archivo.write(\"Hola mundo de archivos\")\n",
        "archivo.close()"
      ],
      "execution_count": 17,
      "outputs": []
    },
    {
      "cell_type": "code",
      "metadata": {
        "id": "4xwZONWz4lex"
      },
      "source": [
        "#comando de sistema operativo (como un mini linux)\n",
        "!(cat ejemplo.txt> otra.txt)"
      ],
      "execution_count": 25,
      "outputs": []
    }
  ]
}