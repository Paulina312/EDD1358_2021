{
  "nbformat": 4,
  "nbformat_minor": 0,
  "metadata": {
    "colab": {
      "name": "05 de octubre_1358.ipynb",
      "provenance": [],
      "authorship_tag": "ABX9TyNVe+5E2XDVQs0f97nCpsp8",
      "include_colab_link": true
    },
    "kernelspec": {
      "name": "python3",
      "display_name": "Python 3"
    }
  },
  "cells": [
    {
      "cell_type": "markdown",
      "metadata": {
        "id": "view-in-github",
        "colab_type": "text"
      },
      "source": [
        "<a href=\"https://colab.research.google.com/github/Paulina312/EDD1358_2021/blob/master/05_de_octubre_1358.ipynb\" target=\"_parent\"><img src=\"https://colab.research.google.com/assets/colab-badge.svg\" alt=\"Open In Colab\"/></a>"
      ]
    },
    {
      "cell_type": "code",
      "metadata": {
        "id": "58wdPPldTFUM",
        "outputId": "e57ba107-fa25-4583-b873-d82909c18f6f",
        "colab": {
          "base_uri": "https://localhost:8080/",
          "height": 85
        }
      },
      "source": [
        "precio=12.50\n",
        "cantidad=2\n",
        "existencia=True\n",
        "#precio de los chetos es 12.5 y quiero 2, hay? true\n",
        "print(\"precio de los chetos es $\", precio, \"y quiero\", cantidad, \"hay?\", existencia)\n",
        "\n",
        "#format() de la clase str\n",
        "print(\"precio de los chetos es {0} y quiero {1}, hay?: {2}\".format(precio,cantidad,existencia))\n",
        "print(\"precio de los chetos es {2} y quiero {1}, hay?: {0}\".format(precio,cantidad,existencia))\n",
        "\n",
        "#operador f\"\"\n",
        "print( f\"precio de los chetos es {precio} y quiero {cantidad}, hay?: {existencia}\")"
      ],
      "execution_count": 65,
      "outputs": [
        {
          "output_type": "stream",
          "text": [
            "precio de los chetos es $ 12.5 y quiero 2 hay? True\n",
            "precio de los chetos es 12.5 y quiero 2, hay?: True\n",
            "precio de los chetos es True y quiero 2, hay?: 12.5\n",
            "precio de los chetos es 12.5 y quiero 2, hay?: True\n"
          ],
          "name": "stdout"
        }
      ]
    },
    {
      "cell_type": "markdown",
      "metadata": {
        "id": "bkl72Aq-YZk4"
      },
      "source": [
        "#listas\n",
        "declaración[]\n",
        "\n",
        "selector[]\n",
        "\n",
        "mutable\n",
        "\n",
        "#tuplas\n",
        "\n",
        "declaración()\n",
        "\n",
        "selector[]\n",
        "\n",
        "no mutable\n",
        "\n",
        "#diccionarios\n",
        "\n",
        "conjuntos de datos en pares de llave:valor\n",
        "\n",
        "son mutables \n",
        "\n",
        "equivalentes a JSON.\n",
        "\n",
        "#conjuntos\n",
        "\n",
        "grupo de elementos con la teoría de conjuntos\n",
        "operaciones de conjuntos."
      ]
    },
    {
      "cell_type": "code",
      "metadata": {
        "id": "AZBfngh4ZZYT",
        "outputId": "071cf672-b45f-46ce-d833-434a8d492fc3",
        "colab": {
          "base_uri": "https://localhost:8080/",
          "height": 391
        }
      },
      "source": [
        "#listas\n",
        "materias = [\"Cyp\", \"DAA\", \"EDD\", \"IS\", \"POO\"]\n",
        "print(materias)\n",
        "\n",
        "#selección de elemento\n",
        "print(materias[2])\n",
        "#último elemento\n",
        "print(materias[-1])\n",
        "#slicing\n",
        "print(materias[::-1])\n",
        "\n",
        "#split\n",
        "fecha =\"20/octubre/2020\"\n",
        "lista_fecha = fecha.split(\"/\")\n",
        "print(lista_fecha)\n",
        "\n",
        "#crear string a partir de una lista\n",
        "lista_hora= [\"15\",\"22\", \"45\"] #<--tienen que ser string\n",
        "hora= \":\".join(lista_hora)\n",
        "print(hora)\n",
        "print(\"-------------\")\n",
        "print(materias)\n",
        "print(lista_fecha)\n",
        "print(lista_hora)\n",
        "\n",
        "#cambiar elementos\n",
        "materias[0] = \"computadoras y programación\"\n",
        "print(materias)\n",
        "\n",
        "#agregar\n",
        "materias.append(\"calidad\")\n",
        "print(materias)\n",
        "materias.insert(2, \"emprendimiento\")\n",
        "print(materias)\n",
        "#sacar elementos de la lista\n",
        "materia=materias.pop()\n",
        "print(materia)\n",
        "print(materias)\n",
        "materia=materias.pop(1)\n",
        "print(materia)\n",
        "print(materias)\n",
        "#vaciar lista\n",
        "materias.clear()\n",
        "print(materias)\n",
        "\n",
        "#slicing\n",
        "#iterable: que tiene indice\n",
        "print(\"slicing\")\n",
        "numeros= [0, 1, 2, 3, 4, 5, 6, 7, 8, 9, 10]\n",
        "print(numeros)\n",
        "print(numeros[4:9])\n",
        "\n",
        "#sustituir un elemento con slicing\n",
        "numeros[4:9:1]=[-2,\"a\",\"b\"] #<----aunque solo sea un valor, se tiene que poner en [] para que el prog. entienda que se trata de un segmento de lista \n",
        "print(numeros)\n"
      ],
      "execution_count": 50,
      "outputs": [
        {
          "output_type": "stream",
          "text": [
            "['Cyp', 'DAA', 'EDD', 'IS', 'POO']\n",
            "EDD\n",
            "POO\n",
            "['POO', 'IS', 'EDD', 'DAA', 'Cyp']\n",
            "['20', 'octubre', '2020']\n",
            "15:22:45\n",
            "-------------\n",
            "['Cyp', 'DAA', 'EDD', 'IS', 'POO']\n",
            "['20', 'octubre', '2020']\n",
            "['15', '22', '45']\n",
            "['computadoras y programación', 'DAA', 'EDD', 'IS', 'POO']\n",
            "['computadoras y programación', 'DAA', 'EDD', 'IS', 'POO', 'calidad']\n",
            "['computadoras y programación', 'DAA', 'emprendimiento', 'EDD', 'IS', 'POO', 'calidad']\n",
            "calidad\n",
            "['computadoras y programación', 'DAA', 'emprendimiento', 'EDD', 'IS', 'POO']\n",
            "DAA\n",
            "['computadoras y programación', 'emprendimiento', 'EDD', 'IS', 'POO']\n",
            "[]\n",
            "slicing\n",
            "[0, 1, 2, 3, 4, 5, 6, 7, 8, 9, 10]\n",
            "[4, 5, 6, 7, 8]\n",
            "[0, 1, 2, 3, -2, 'a', 'b', 9, 10]\n"
          ],
          "name": "stdout"
        }
      ]
    },
    {
      "cell_type": "code",
      "metadata": {
        "id": "jcfZ2K02iRGu",
        "outputId": "ea7ed940-ae6b-4704-e0df-c845faf10384",
        "colab": {
          "base_uri": "https://localhost:8080/",
          "height": 51
        }
      },
      "source": [
        "autos=[\"mazda\", \"honda\", \"akura\", \"ford\", \"vmw\" ]\n",
        "telefonos=[\"iphone\", \"huawei mate 30\", \"xiaomi S10\", \"alcatel t1000\"]\n",
        "sistemas_operativos=[\"windows\", \"linux\", \"Android\", \"MacOs\"]\n",
        "lista_2d =[autos, telefonos, sistemas_operativos]\n",
        "print(lista_2d)\n",
        "print(lista_2d[1][1])"
      ],
      "execution_count": 53,
      "outputs": [
        {
          "output_type": "stream",
          "text": [
            "[['mazda', 'honda', 'akura', 'ford', 'vmw'], ['iphone', 'huawei mate 30', 'xiaomi S10', 'alcatel t1000'], ['windows', 'linux', 'Android', 'MacOs']]\n",
            "huawei mate 30\n"
          ],
          "name": "stdout"
        }
      ]
    }
  ]
}