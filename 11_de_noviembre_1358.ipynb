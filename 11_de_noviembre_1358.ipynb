{
  "nbformat": 4,
  "nbformat_minor": 0,
  "metadata": {
    "colab": {
      "name": "11 de noviembre_1358.ipynb",
      "provenance": [],
      "collapsed_sections": [],
      "authorship_tag": "ABX9TyNiO+qerBToDeX2e8ufESBc",
      "include_colab_link": true
    },
    "kernelspec": {
      "name": "python3",
      "display_name": "Python 3"
    }
  },
  "cells": [
    {
      "cell_type": "markdown",
      "metadata": {
        "id": "view-in-github",
        "colab_type": "text"
      },
      "source": [
        "<a href=\"https://colab.research.google.com/github/Paulina312/EDD1358_2021/blob/master/11_de_noviembre_1358.ipynb\" target=\"_parent\"><img src=\"https://colab.research.google.com/assets/colab-badge.svg\" alt=\"Open In Colab\"/></a>"
      ]
    },
    {
      "cell_type": "code",
      "metadata": {
        "id": "_1x1Vt611HtM",
        "outputId": "a75d226f-ea06-49ba-d5be-c126c6e6e899",
        "colab": {
          "base_uri": "https://localhost:8080/"
        }
      },
      "source": [
        "class Nodo:\n",
        "  def __init__(self, dato):\n",
        "    self.__dato = dato\n",
        "    self.__siguiente = None\n",
        "  \n",
        "  def get_dato(self):\n",
        "    return self.__dato\n",
        "\n",
        "  def set_dato(self, d):\n",
        "    self.__dato = d\n",
        "\n",
        "  def get_siguiente(self):\n",
        "    return self.__siguiente\n",
        "\n",
        "  def set_siguiente(self, d):\n",
        "    self.__siguiente = d\n",
        "\n",
        "  def show( self ):\n",
        "       curr_node = self # Head\n",
        "       print(\" Inicio de la estructura ligada:\")\n",
        "       print(\"|\" + str(curr_node.get_dato()) + \"| -->\" , end =\"\" )\n",
        "       while( curr_node.get_siguiente() != None ):\n",
        "           curr_node = curr_node.get_siguiente()\n",
        "           print(\"|\" + str(curr_node.get_dato() ) + \"| -->\" , end =\"\" )\n",
        "       print(\"\\nFin\")\n",
        "\n",
        "# Ejemplo:\n",
        "\n",
        "a = Nodo(10)\n",
        "a.show()\n",
        "\n",
        "#Ejemplo 2:\n",
        "a.set_siguiente(Nodo(20))\n",
        "a.show()\n",
        "\n",
        "#Ejemplo 3:\n",
        "a.get_siguiente().set_siguiente(Nodo(30))\n",
        "a.show()\n",
        "\n",
        "#Ejemplo 4:\n",
        "a.get_siguiente().get_siguiente().set_siguiente(Nodo(40))\n",
        "a.show()\n",
        "\n",
        "# Ejemplo 5:\n",
        "a.get_siguiente().get_siguiente().get_siguiente().set_siguiente(Nodo(50))\n",
        "a.show()\n",
        "\n",
        "#Ejemplo 6: ------------cambio de valor--------------------\n",
        "a.set_dato(12)\n",
        "a.show()\n",
        "\n",
        "#Ejemplo 7: \n",
        "a.get_siguiente().get_siguiente().get_siguiente().set_dato(45)\n",
        "a.show()\n",
        "\n",
        "# Ejemplo 8:\n",
        "a.get_siguiente().get_siguiente().get_siguiente().get_siguiente().set_siguiente(Nodo(60))\n",
        "a.get_siguiente().set_dato(25)\n",
        "a.show()"
      ],
      "execution_count": 16,
      "outputs": [
        {
          "output_type": "stream",
          "text": [
            " Inicio de la estructura ligada:\n",
            "|10| -->\n",
            "Fin\n",
            " Inicio de la estructura ligada:\n",
            "|10| -->|20| -->\n",
            "Fin\n",
            " Inicio de la estructura ligada:\n",
            "|10| -->|20| -->|30| -->\n",
            "Fin\n",
            " Inicio de la estructura ligada:\n",
            "|10| -->|20| -->|30| -->|40| -->\n",
            "Fin\n",
            " Inicio de la estructura ligada:\n",
            "|10| -->|20| -->|30| -->|40| -->|50| -->\n",
            "Fin\n",
            " Inicio de la estructura ligada:\n",
            "|12| -->|20| -->|30| -->|40| -->|50| -->\n",
            "Fin\n",
            " Inicio de la estructura ligada:\n",
            "|12| -->|20| -->|30| -->|45| -->|50| -->\n",
            "Fin\n",
            " Inicio de la estructura ligada:\n",
            "|12| -->|25| -->|30| -->|45| -->|50| -->|60| -->\n",
            "Fin\n"
          ],
          "name": "stdout"
        }
      ]
    },
    {
      "cell_type": "code",
      "metadata": {
        "id": "mZPVM24aM3Ai",
        "outputId": "8a619069-2fd1-498c-b41c-f990586d79e4",
        "colab": {
          "base_uri": "https://localhost:8080/"
        }
      },
      "source": [
        "class Node:\n",
        "  def __init__(self, dato):\n",
        "    self.dato = dato\n",
        "    self.siguiente = None    #<---- se recomienda desencapsular/ ya no requerimos get's & set's\n",
        "\n",
        "b= Node(10)\n",
        "print(b.dato)\n",
        "print(b.siguiente)\n",
        "\n",
        "#Ejemplo 2:\n",
        "b.siguiente = Node(20)\n",
        "\n",
        "#Ejemplo 3:\n",
        "b.siguiente.siguiente = Node(30)\n",
        "\n",
        "#Ejemplo 4:\n",
        "b.siguiente.siguiente.siguiente = Node(40)\n",
        "\n",
        "#Ejemplo 5:\n",
        "b.siguiente.siguiente.siguiente.siguiente = Node(50)\n",
        "\n",
        "# recorrido transversal\n",
        "curr_node = b\n",
        "print(curr_node.dato, \"--->\", end=\"\")\n",
        "while( curr_node.siguiente != None ):\n",
        "    curr_node = curr_node.siguiente\n",
        "    print(curr_node.dato, \"-->\" , end=\"\")\n",
        "print(\"\")\n",
        "\n",
        "#Ejemplo 6:\n",
        "b.siguiente.siguiente.dato = 35\n",
        "\n",
        "# recorrido transversal\n",
        "curr_node = b\n",
        "print(curr_node.dato, \"--->\", end=\"\")\n",
        "while( curr_node.siguiente != None ):\n",
        "    curr_node = curr_node.siguiente\n",
        "    print(curr_node.dato, \"-->\" , end=\"\")\n",
        "print(\"\")\n",
        "\n",
        "#Ejemplo 7: elimine el 35\n",
        "b.siguiente.siguiente = b.siguiente.siguiente.siguiente\n",
        "\n",
        "# recorrido transversal\n",
        "curr_node = b\n",
        "print(curr_node.dato, \"--->\", end=\"\")\n",
        "while( curr_node.siguiente != None ):\n",
        "    curr_node = curr_node.siguiente\n",
        "    print(curr_node.dato, \"-->\" , end=\"\")\n",
        "print(\"\")\n",
        "\n",
        "#Ejemplo 7: elimine el 35\n",
        "b.siguiente = b.siguiente.siguiente.siguiente\n",
        "\n",
        "# recorrido transversal\n",
        "curr_node = b\n",
        "print(curr_node.dato, \"--->\", end=\"\")\n",
        "while( curr_node.siguiente != None ):\n",
        "    curr_node = curr_node.siguiente\n",
        "    print(curr_node.dato, \"-->\" , end=\"\")\n",
        "print(\"\")"
      ],
      "execution_count": 29,
      "outputs": [
        {
          "output_type": "stream",
          "text": [
            "10\n",
            "None\n",
            "10 --->20 -->30 -->40 -->50 -->\n",
            "10 --->20 -->35 -->40 -->50 -->\n",
            "10 --->20 -->40 -->50 -->\n",
            "10 --->50 -->\n"
          ],
          "name": "stdout"
        }
      ]
    }
  ]
}