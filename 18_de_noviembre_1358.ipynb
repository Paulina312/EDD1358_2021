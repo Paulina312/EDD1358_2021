{
  "nbformat": 4,
  "nbformat_minor": 0,
  "metadata": {
    "colab": {
      "name": "18 de noviembre_1358.ipynb",
      "provenance": [],
      "collapsed_sections": [],
      "authorship_tag": "ABX9TyNiBO/jX7tVimLZK1zDcU7g",
      "include_colab_link": true
    },
    "kernelspec": {
      "name": "python3",
      "display_name": "Python 3"
    }
  },
  "cells": [
    {
      "cell_type": "markdown",
      "metadata": {
        "id": "view-in-github",
        "colab_type": "text"
      },
      "source": [
        "<a href=\"https://colab.research.google.com/github/Paulina312/EDD1358_2021/blob/master/18_de_noviembre_1358.ipynb\" target=\"_parent\"><img src=\"https://colab.research.google.com/assets/colab-badge.svg\" alt=\"Open In Colab\"/></a>"
      ]
    },
    {
      "cell_type": "code",
      "metadata": {
        "id": "_1x1Vt611HtM",
        "colab": {
          "base_uri": "https://localhost:8080/"
        },
        "outputId": "a75d226f-ea06-49ba-d5be-c126c6e6e899"
      },
      "source": [
        "class Nodo:\n",
        "  def __init__(self, dato):\n",
        "    self.__dato = dato\n",
        "    self.__siguiente = None\n",
        "  \n",
        "  def get_dato(self):\n",
        "    return self.__dato\n",
        "\n",
        "  def set_dato(self, d):\n",
        "    self.__dato = d\n",
        "\n",
        "  def get_siguiente(self):\n",
        "    return self.__siguiente\n",
        "\n",
        "  def set_siguiente(self, d):\n",
        "    self.__siguiente = d\n",
        "\n",
        "  def show( self ):\n",
        "       curr_node = self # Head\n",
        "       print(\" Inicio de la estructura ligada:\")\n",
        "       print(\"|\" + str(curr_node.get_dato()) + \"| -->\" , end =\"\" )\n",
        "       while( curr_node.get_siguiente() != None ):\n",
        "           curr_node = curr_node.get_siguiente()\n",
        "           print(\"|\" + str(curr_node.get_dato() ) + \"| -->\" , end =\"\" )\n",
        "       print(\"\\nFin\")\n",
        "\n",
        "# Ejemplo:\n",
        "\n",
        "a = Nodo(10)\n",
        "a.show()\n",
        "\n",
        "#Ejemplo 2:\n",
        "a.set_siguiente(Nodo(20))\n",
        "a.show()\n",
        "\n",
        "#Ejemplo 3:\n",
        "a.get_siguiente().set_siguiente(Nodo(30))\n",
        "a.show()\n",
        "\n",
        "#Ejemplo 4:\n",
        "a.get_siguiente().get_siguiente().set_siguiente(Nodo(40))\n",
        "a.show()\n",
        "\n",
        "# Ejemplo 5:\n",
        "a.get_siguiente().get_siguiente().get_siguiente().set_siguiente(Nodo(50))\n",
        "a.show()\n",
        "\n",
        "#Ejemplo 6: ------------cambio de valor--------------------\n",
        "a.set_dato(12)\n",
        "a.show()\n",
        "\n",
        "#Ejemplo 7: \n",
        "a.get_siguiente().get_siguiente().get_siguiente().set_dato(45)\n",
        "a.show()\n",
        "\n",
        "# Ejemplo 8:\n",
        "a.get_siguiente().get_siguiente().get_siguiente().get_siguiente().set_siguiente(Nodo(60))\n",
        "a.get_siguiente().set_dato(25)\n",
        "a.show()"
      ],
      "execution_count": null,
      "outputs": [
        {
          "output_type": "stream",
          "text": [
            " Inicio de la estructura ligada:\n",
            "|10| -->\n",
            "Fin\n",
            " Inicio de la estructura ligada:\n",
            "|10| -->|20| -->\n",
            "Fin\n",
            " Inicio de la estructura ligada:\n",
            "|10| -->|20| -->|30| -->\n",
            "Fin\n",
            " Inicio de la estructura ligada:\n",
            "|10| -->|20| -->|30| -->|40| -->\n",
            "Fin\n",
            " Inicio de la estructura ligada:\n",
            "|10| -->|20| -->|30| -->|40| -->|50| -->\n",
            "Fin\n",
            " Inicio de la estructura ligada:\n",
            "|12| -->|20| -->|30| -->|40| -->|50| -->\n",
            "Fin\n",
            " Inicio de la estructura ligada:\n",
            "|12| -->|20| -->|30| -->|45| -->|50| -->\n",
            "Fin\n",
            " Inicio de la estructura ligada:\n",
            "|12| -->|25| -->|30| -->|45| -->|50| -->|60| -->\n",
            "Fin\n"
          ],
          "name": "stdout"
        }
      ]
    },
    {
      "cell_type": "code",
      "metadata": {
        "id": "mZPVM24aM3Ai",
        "colab": {
          "base_uri": "https://localhost:8080/"
        },
        "outputId": "8a619069-2fd1-498c-b41c-f990586d79e4"
      },
      "source": [
        "class Node:\n",
        "  def __init__(self, dato):\n",
        "    self.dato = dato\n",
        "    self.siguiente = None    #<---- se recomienda desencapsular/ ya no requerimos get's & set's\n",
        "\n",
        "b= Node(10)\n",
        "print(b.dato)\n",
        "print(b.siguiente)\n",
        "\n",
        "#Ejemplo 2:\n",
        "b.siguiente = Node(20)\n",
        "\n",
        "#Ejemplo 3:\n",
        "b.siguiente.siguiente = Node(30)\n",
        "\n",
        "#Ejemplo 4:\n",
        "b.siguiente.siguiente.siguiente = Node(40)\n",
        "\n",
        "#Ejemplo 5:\n",
        "b.siguiente.siguiente.siguiente.siguiente = Node(50)\n",
        "\n",
        "# recorrido transversal\n",
        "curr_node = b\n",
        "print(curr_node.dato, \"--->\", end=\"\")\n",
        "while( curr_node.siguiente != None ):\n",
        "    curr_node = curr_node.siguiente\n",
        "    print(curr_node.dato, \"-->\" , end=\"\")\n",
        "print(\"\")\n",
        "\n",
        "#Ejemplo 6:\n",
        "b.siguiente.siguiente.dato = 35\n",
        "\n",
        "# recorrido transversal\n",
        "curr_node = b\n",
        "print(curr_node.dato, \"--->\", end=\"\")\n",
        "while( curr_node.siguiente != None ):\n",
        "    curr_node = curr_node.siguiente\n",
        "    print(curr_node.dato, \"-->\" , end=\"\")\n",
        "print(\"\")\n",
        "\n",
        "#Ejemplo 7: elimine el 35\n",
        "b.siguiente.siguiente = b.siguiente.siguiente.siguiente\n",
        "\n",
        "# recorrido transversal\n",
        "curr_node = b\n",
        "print(curr_node.dato, \"--->\", end=\"\")\n",
        "while( curr_node.siguiente != None ):\n",
        "    curr_node = curr_node.siguiente\n",
        "    print(curr_node.dato, \"-->\" , end=\"\")\n",
        "print(\"\")\n",
        "\n",
        "#Ejemplo 7: elimine el 35\n",
        "b.siguiente = b.siguiente.siguiente.siguiente\n",
        "\n",
        "# recorrido transversal\n",
        "curr_node = b\n",
        "print(curr_node.dato, \"--->\", end=\"\")\n",
        "while( curr_node.siguiente != None ):\n",
        "    curr_node = curr_node.siguiente\n",
        "    print(curr_node.dato, \"-->\" , end=\"\")\n",
        "print(\"\")"
      ],
      "execution_count": null,
      "outputs": [
        {
          "output_type": "stream",
          "text": [
            "10\n",
            "None\n",
            "10 --->20 -->30 -->40 -->50 -->\n",
            "10 --->20 -->35 -->40 -->50 -->\n",
            "10 --->20 -->40 -->50 -->\n",
            "10 --->50 -->\n"
          ],
          "name": "stdout"
        }
      ]
    },
    {
      "cell_type": "code",
      "metadata": {
        "colab": {
          "base_uri": "https://localhost:8080/"
        },
        "id": "Aj3S9KfJJNUt",
        "outputId": "0eebb3b0-a518-4189-8eb4-249510991689"
      },
      "source": [
        "# código del 18 de \n",
        "\n",
        "class Nodo:\n",
        "  def __init__(self, dato, siguiente = None): # <--- val por defecto\n",
        "    self.dato = dato\n",
        "    self.siguiente = siguiente\n",
        "\n",
        "head = Nodo( 10, Nodo(20, Nodo(30, Nodo(40, Nodo(50)))))\n",
        "\n",
        "# recorrido transversal\n",
        "curr_node = head                            # Donde comienza\n",
        "print(curr_node.dato, \"--->\", end=\"\")\n",
        "while( curr_node.siguiente != None ):       # ya acabamos, no?--->\n",
        "    curr_node = curr_node.siguiente         # Te mueves al siguiente nodo\n",
        "    print(curr_node.dato, \"-->\" , end=\"\")\n",
        "print(\"\")\n",
        "\n",
        "#insertar el nodo 35 después de 30\n",
        "anterior= head.siguiente.siguiente   # Defino a anterior (30)\n",
        "print(anterior.dato)\n",
        "nuevo = Nodo(35)                     # Creo el nodo nuevo (35)\n",
        "nuevo.siguiente = anterior.siguiente # Conecto 35 con 40\n",
        "print(nuevo.siguiente.dato)\n",
        "anterior.siguiente = nuevo           # Conecto 30 con 35 =\n",
        "\n",
        "# recorrido transversal\n",
        "curr_node = head\n",
        "print(curr_node.dato, \"--->\", end=\"\")\n",
        "while( curr_node.siguiente != None ):\n",
        "    curr_node = curr_node.siguiente\n",
        "    print(curr_node.dato, \"-->\" , end=\"\")\n",
        "print(\"\")\n",
        "\n",
        "#como ELIMINAR un Nodo\n",
        "#garbage collector: elimina datos a la deriva (basura)\n",
        "head.siguiente = head.siguiente.siguiente\n",
        "\n",
        "# recorrido transversal\n",
        "curr_node = head\n",
        "print(curr_node.dato, \"--->\", end=\"\")\n",
        "while( curr_node.siguiente != None ):\n",
        "    curr_node = curr_node.siguiente\n",
        "    print(curr_node.dato, \"-->\" , end=\"\")\n",
        "print(\"\")"
      ],
      "execution_count": 8,
      "outputs": [
        {
          "output_type": "stream",
          "text": [
            "10 --->20 -->30 -->40 -->50 -->\n",
            "30\n",
            "40\n",
            "10 --->20 -->30 -->35 -->40 -->50 -->\n",
            "10 --->30 -->35 -->40 -->50 -->\n"
          ],
          "name": "stdout"
        }
      ]
    },
    {
      "cell_type": "code",
      "metadata": {
        "id": "vNd7DdKLVcdj"
      },
      "source": [
        "class Nodo:\n",
        "  def __init__(self, dato, siguiente = None):\n",
        "    self.dato = dato\n",
        "    self.siguiente = siguiente\n",
        "\n",
        "class LinkedList:\n",
        "  def __init__(self):\n",
        "    self.__head = None\n",
        "\n",
        "  def is_empty(self):\n",
        "    return self.__head == None"
      ],
      "execution_count": null,
      "outputs": []
    }
  ]
}