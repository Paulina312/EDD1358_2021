{
  "nbformat": 4,
  "nbformat_minor": 0,
  "metadata": {
    "colab": {
      "name": "Tarea. 11 de enero_1358.ipynb",
      "provenance": [],
      "collapsed_sections": [],
      "authorship_tag": "ABX9TyPkNxU06bhEfT7q6PXLdC4A",
      "include_colab_link": true
    },
    "kernelspec": {
      "name": "python3",
      "display_name": "Python 3"
    }
  },
  "cells": [
    {
      "cell_type": "markdown",
      "metadata": {
        "id": "view-in-github",
        "colab_type": "text"
      },
      "source": [
        "<a href=\"https://colab.research.google.com/github/Paulina312/EDD1358_2021/blob/master/Tarea_11_de_enero_1358.ipynb\" target=\"_parent\"><img src=\"https://colab.research.google.com/assets/colab-badge.svg\" alt=\"Open In Colab\"/></a>"
      ]
    },
    {
      "cell_type": "code",
      "metadata": {
        "id": "JtqcRX-r6KMk"
      },
      "source": [
        "class Queue:\r\n",
        "  def __init__(self):\r\n",
        "    self.__data = list()\r\n",
        "\r\n",
        "  def is_empty(self):\r\n",
        "    return len(self.__data) == 0\r\n",
        "  \r\n",
        "  def lenght(self):\r\n",
        "    return len(self.__data)\r\n",
        "  \r\n",
        "  def enqueue(self, item):\r\n",
        "    self.__data.append(item)\r\n",
        "  \r\n",
        "  def dequeue(self):\r\n",
        "    if not self.is_empty():\r\n",
        "      return self.__data.pop(0)\r\n",
        "    else:\r\n",
        "      return None\r\n",
        "\r\n",
        "  def to_string(self):\r\n",
        "    cadena = \"\"\r\n",
        "    for elem in self.__data:\r\n",
        "      cadena = cadena + \"| \" + elem\r\n",
        "    cadena = cadena + \"|\"\r\n",
        "    return cadena"
      ],
      "execution_count": 31,
      "outputs": []
    },
    {
      "cell_type": "code",
      "metadata": {
        "id": "BOtOdsoV6uqu"
      },
      "source": [
        "class PriorityQueue:\r\n",
        "  def __init__(self):\r\n",
        "    self.__data = [Queue()]\r\n",
        "    self.__size = 0\r\n",
        "  \r\n",
        "  def is_empty(self):\r\n",
        "    return self.__size == 0\r\n",
        "\r\n",
        "  def lenght(self):\r\n",
        "    return self.__size\r\n",
        "\r\n",
        "  def enqueue(self, prioridad, elem):\r\n",
        "    if prioridad < len(self.__data) and prioridad >= 0:\r\n",
        "      self.__data[prioridad].enqueue(elem)\r\n",
        "      self.__size += 1\r\n",
        "    elif prioridad >= len(self.__data) and prioridad >= 0:\r\n",
        "      while prioridad >= len(self.__data):\r\n",
        "        self.__data.append(Queue())\r\n",
        "      self.__data[prioridad].enqueue(elem)\r\n",
        "      self.__size += 1\r\n",
        "    else:\r\n",
        "      print(\"La prioridad esta fuera de rango\")\r\n",
        "  \r\n",
        "  def dequeue(self):\r\n",
        "    if not self.is_empty():\r\n",
        "      n = 0\r\n",
        "      while self.__data[n].is_empty():\r\n",
        "        n +=1\r\n",
        "      self.__size -= 1\r\n",
        "      return self.__data[n].dequeue()\r\n",
        "    else:\r\n",
        "      return None\r\n",
        "\r\n",
        "  def to_string(self):\r\n",
        "    for nivel in range(len(self.__data)):\r\n",
        "      print(f\"Nivel {nivel} --> {self.__data[nivel].to_string()} \")\r\n",
        "    if self.is_empty():\r\n",
        "      print(\"Nave evacuada con exito!!!\")"
      ],
      "execution_count": 50,
      "outputs": []
    },
    {
      "cell_type": "code",
      "metadata": {
        "colab": {
          "base_uri": "https://localhost:8080/"
        },
        "id": "QVjlPZEvE_TN",
        "outputId": "356d4aad-de5c-4d9f-8e0b-8bc7105b2fba"
      },
      "source": [
        "barco = PriorityQueue()\r\n",
        "barco.enqueue( 4,\"Maestre\" )\r\n",
        "barco.enqueue( 2,\"Niños\" )\r\n",
        "barco.enqueue( 4,\"Mecánico\" )\r\n",
        "barco.enqueue( 3,\"Hombres\" )\r\n",
        "barco.enqueue( 4,\"Vigia\" )\r\n",
        "barco.enqueue( 5,\"Capitan\" )\r\n",
        "barco.enqueue( 4,\"Timonel\" )\r\n",
        "barco.enqueue( 3,\"Mujeres\" )\r\n",
        "barco.enqueue( 2,\"3ra edad\" )\r\n",
        "barco.enqueue( 1,\"Niñas\" )\r\n",
        "barco.to_string()\r\n",
        "print(barco.dequeue())\r\n",
        "print(barco.dequeue())\r\n",
        "print(barco.dequeue())\r\n",
        "print(barco.dequeue())\r\n",
        "print(barco.dequeue())\r\n",
        "print(barco.dequeue())\r\n",
        "print(barco.dequeue())\r\n",
        "print(barco.dequeue())\r\n",
        "print(barco.dequeue())\r\n",
        "print(barco.dequeue())\r\n",
        "barco.to_string()"
      ],
      "execution_count": 53,
      "outputs": [
        {
          "output_type": "stream",
          "text": [
            "Nivel 0 --> | \n",
            "Nivel 1 --> | Niñas| \n",
            "Nivel 2 --> | Niños| 3ra edad| \n",
            "Nivel 3 --> | Hombres| Mujeres| \n",
            "Nivel 4 --> | Maestre| Mecánico| Vigia| Timonel| \n",
            "Nivel 5 --> | Capitan| \n",
            "Niñas\n",
            "Niños\n",
            "3ra edad\n",
            "Hombres\n",
            "Mujeres\n",
            "Maestre\n",
            "Mecánico\n",
            "Vigia\n",
            "Timonel\n",
            "Capitan\n",
            "Nivel 0 --> | \n",
            "Nivel 1 --> | \n",
            "Nivel 2 --> | \n",
            "Nivel 3 --> | \n",
            "Nivel 4 --> | \n",
            "Nivel 5 --> | \n",
            "Nave evacuada con exito!!!\n"
          ],
          "name": "stdout"
        }
      ]
    }
  ]
}