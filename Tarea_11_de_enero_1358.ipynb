{
  "nbformat": 4,
  "nbformat_minor": 0,
  "metadata": {
    "colab": {
      "name": "Tarea. 11 de enero_1358.ipynb",
      "provenance": [],
      "collapsed_sections": [],
      "authorship_tag": "ABX9TyO1kEN++B0eHSALFivx3tDe",
      "include_colab_link": true
    },
    "kernelspec": {
      "name": "python3",
      "display_name": "Python 3"
    }
  },
  "cells": [
    {
      "cell_type": "markdown",
      "metadata": {
        "id": "view-in-github",
        "colab_type": "text"
      },
      "source": [
        "<a href=\"https://colab.research.google.com/github/Paulina312/EDD1358_2021/blob/master/Tarea_11_de_enero_1358.ipynb\" target=\"_parent\"><img src=\"https://colab.research.google.com/assets/colab-badge.svg\" alt=\"Open In Colab\"/></a>"
      ]
    },
    {
      "cell_type": "code",
      "metadata": {
        "id": "JtqcRX-r6KMk"
      },
      "source": [
        "class Queue:\r\n",
        "  def __init__(self):\r\n",
        "    self.__data = list()\r\n",
        "\r\n",
        "  def is_empty(self):\r\n",
        "    return len(self.__data) == 0\r\n",
        "  \r\n",
        "  def lenght(self):\r\n",
        "    return len(self.__data)\r\n",
        "  \r\n",
        "  def enqueue(self, item):\r\n",
        "    self.__data.append(item)\r\n",
        "  \r\n",
        "  def dequeue(self):\r\n",
        "    if not self.is_empty():\r\n",
        "      return self.__data.pop(0)\r\n",
        "    else:\r\n",
        "      return None\r\n",
        "\r\n",
        "  def to_string(self):\r\n",
        "    for elem in self.__data:\r\n",
        "      print(f\"| { elem } \", end=\"\")\r\n",
        "    print(\"|\")"
      ],
      "execution_count": 74,
      "outputs": []
    },
    {
      "cell_type": "code",
      "metadata": {
        "id": "BOtOdsoV6uqu"
      },
      "source": [
        "class PriorityQueue:\r\n",
        "  def __init__(self):\r\n",
        "    self.__data = [Queue()]\r\n",
        "    self.__size = 0\r\n",
        "  \r\n",
        "  def is_empty(self):\r\n",
        "    return self.__size == 0\r\n",
        "\r\n",
        "  def lenght(self):\r\n",
        "    return self.__size\r\n",
        "\r\n",
        "  def enqueue(self, prioridad, elem):\r\n",
        "    if prioridad < len(self.__data):\r\n",
        "      self.__data[prioridad].enqueue(elem)\r\n",
        "      self.__size += 1\r\n",
        "    elif prioridad >= len(self.__data):\r\n",
        "      while prioridad >= len(self.__data):\r\n",
        "        self.__data.append(Queue())\r\n",
        "      self.__data[prioridad].enqueue(elem)\r\n",
        "      self.__size += 1\r\n",
        "  \r\n",
        "  def dequeue(self):\r\n",
        "    if not self.is_empty():\r\n",
        "      n = 0\r\n",
        "      while self.__data[n].is_empty() == True:\r\n",
        "        n = n+1\r\n",
        "      return self.__data[n].dequeue()\r\n",
        "      self.__size -= 1\r\n",
        "    else:\r\n",
        "      return None\r\n",
        "\r\n",
        "  def to_string(self):\r\n",
        "    for elem in self.__data:\r\n",
        "      elem.to_string()\r\n",
        "      print(\"---\")\r\n",
        "    print(\" \")"
      ],
      "execution_count": 85,
      "outputs": []
    },
    {
      "cell_type": "code",
      "metadata": {
        "colab": {
          "base_uri": "https://localhost:8080/"
        },
        "id": "QVjlPZEvE_TN",
        "outputId": "4e3e0a77-567f-4ead-f987-07542d922db8"
      },
      "source": [
        "hola = PriorityQueue()\r\n",
        "hola.enqueue( 0,\"Snoopy\" )\r\n",
        "hola.enqueue(0,\"Charlie Brown\")\r\n",
        "hola.enqueue(2,\"Lucy\")\r\n",
        "hola.enqueue(1,\"Emilio\")\r\n",
        "hola.to_string()\r\n",
        "hola.lenght()\r\n",
        "print(hola.dequeue())\r\n",
        "print(hola.dequeue())\r\n",
        "hola.to_string()\r\n",
        "print(hola.dequeue())\r\n",
        "hola.to_string()"
      ],
      "execution_count": 88,
      "outputs": [
        {
          "output_type": "stream",
          "text": [
            "| Snoopy | Charlie Brown |\n",
            "---\n",
            "| Emilio |\n",
            "---\n",
            "| Lucy |\n",
            "---\n",
            " \n",
            "Snoopy\n",
            "Charlie Brown\n",
            "|\n",
            "---\n",
            "| Emilio |\n",
            "---\n",
            "| Lucy |\n",
            "---\n",
            " \n",
            "Emilio\n",
            "|\n",
            "---\n",
            "|\n",
            "---\n",
            "| Lucy |\n",
            "---\n",
            " \n"
          ],
          "name": "stdout"
        }
      ]
    }
  ]
}