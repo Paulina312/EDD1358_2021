{
  "nbformat": 4,
  "nbformat_minor": 0,
  "metadata": {
    "colab": {
      "name": "11 de enero_1358.ipynb",
      "provenance": [],
      "authorship_tag": "ABX9TyN37ZFdS6BVsg0+vhkzlX/d",
      "include_colab_link": true
    },
    "kernelspec": {
      "name": "python3",
      "display_name": "Python 3"
    }
  },
  "cells": [
    {
      "cell_type": "markdown",
      "metadata": {
        "id": "view-in-github",
        "colab_type": "text"
      },
      "source": [
        "<a href=\"https://colab.research.google.com/github/Paulina312/EDD1358_2021/blob/master/11_de_enero_1358.ipynb\" target=\"_parent\"><img src=\"https://colab.research.google.com/assets/colab-badge.svg\" alt=\"Open In Colab\"/></a>"
      ]
    },
    {
      "cell_type": "code",
      "metadata": {
        "id": "XaHH58y-NsRq"
      },
      "source": [
        "class NodoArbol:\r\n",
        "  def __init__(self, dato, hijo_izq=None, hijo_der=None):\r\n",
        "    self.dato = dato\r\n",
        "    self.hijo_izq = hijo_izq\r\n",
        "    self.hijo_der = hijo_der\r\n",
        "    "
      ],
      "execution_count": 1,
      "outputs": []
    },
    {
      "cell_type": "code",
      "metadata": {
        "colab": {
          "base_uri": "https://localhost:8080/"
        },
        "id": "EO61Ii9jRBin",
        "outputId": "e098593d-bcf8-487a-959b-cd81d216e614"
      },
      "source": [
        "arbol = NodoArbol(\"R\")\r\n",
        "arbol.hijo_izq = NodoArbol(\"C\")\r\n",
        "arbol.hijo_der = NodoArbol(\"H\")\r\n",
        "#Imprimir el nodo raíz\r\n",
        "print(arbol.dato)\r\n",
        "#Imprimir el hijo izq\r\n",
        "print(arbol.hijo_izq.dato)\r\n",
        "#Imprimir el hijo der\r\n",
        "print(arbol.hijo_der.dato)"
      ],
      "execution_count": 4,
      "outputs": [
        {
          "output_type": "stream",
          "text": [
            "R\n",
            "C\n",
            "H\n"
          ],
          "name": "stdout"
        }
      ]
    },
    {
      "cell_type": "code",
      "metadata": {
        "colab": {
          "base_uri": "https://localhost:8080/"
        },
        "id": "VXwkSfxKSwfM",
        "outputId": "4dda41c3-143e-4b86-bb87-668ee18b4d1a"
      },
      "source": [
        "arbol_v2 = NodoArbol(\"R\", NodoArbol(\"C\"), NodoArbol(\"H\"))\r\n",
        "print(arbol.dato)\r\n",
        "print(arbol.hijo_izq.dato)\r\n",
        "print(arbol.hijo_der.dato)"
      ],
      "execution_count": 6,
      "outputs": [
        {
          "output_type": "stream",
          "text": [
            "R\n",
            "C\n",
            "H\n"
          ],
          "name": "stdout"
        }
      ]
    },
    {
      "cell_type": "code",
      "metadata": {
        "colab": {
          "base_uri": "https://localhost:8080/"
        },
        "id": "Nq2bkx1BTX8t",
        "outputId": "ae72a592-4394-466e-cb37-095f505138f2"
      },
      "source": [
        "#ejercicio 2\r\n",
        "arbol2 = NodoArbol(4, NodoArbol(3, NodoArbol(2, NodoArbol(2))), NodoArbol(5))\r\n",
        "print(arbol2.hijo_izq.hijo_izq.hijo_izq.dato)\r\n",
        "\r\n",
        "# Para imprimir el último valor\r\n",
        "aux = arbol2\r\n",
        "while aux.hijo_izq != None:\r\n",
        "  aux = aux.hijo_izq\r\n",
        "print(aux.dato)"
      ],
      "execution_count": 13,
      "outputs": [
        {
          "output_type": "stream",
          "text": [
            "2\n",
            "2\n"
          ],
          "name": "stdout"
        }
      ]
    },
    {
      "cell_type": "code",
      "metadata": {
        "id": "UxWXin5KYoIE"
      },
      "source": [
        "#Árbol ternario:\r\n",
        "class NodoArbol2:\r\n",
        "  def __init__(self, dato, hijo_izq=None, hijo_centro = None, hijo_der=None):\r\n",
        "    self.dato = dato\r\n",
        "    self.hijo_izq = hijo_izq\r\n",
        "    self.hijo_cen = hijo_centro\r\n",
        "    self.hijo_der = hijo_der"
      ],
      "execution_count": 23,
      "outputs": []
    },
    {
      "cell_type": "code",
      "metadata": {
        "id": "C4hPMDtgZBF0"
      },
      "source": [
        "arbol3 = NodoArbol2(\"R\", NodoArbol2(\"I\", None, NodoArbol2(\"X\")), NodoArbol2(\"C\", None, NodoArbol2(\"Y\")),NodoArbol2(\"D\", None, None , NodoArbol2(\"Z\")))"
      ],
      "execution_count": 24,
      "outputs": []
    }
  ]
}