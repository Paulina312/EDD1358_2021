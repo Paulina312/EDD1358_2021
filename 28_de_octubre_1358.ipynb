{
  "nbformat": 4,
  "nbformat_minor": 0,
  "metadata": {
    "colab": {
      "name": "28 de octubre_1358.ipynb",
      "provenance": [],
      "authorship_tag": "ABX9TyO/gCDS02btb0b5/eCOHcN9",
      "include_colab_link": true
    },
    "kernelspec": {
      "name": "python3",
      "display_name": "Python 3"
    }
  },
  "cells": [
    {
      "cell_type": "markdown",
      "metadata": {
        "id": "view-in-github",
        "colab_type": "text"
      },
      "source": [
        "<a href=\"https://colab.research.google.com/github/Paulina312/EDD1358_2021/blob/master/28_de_octubre_1358.ipynb\" target=\"_parent\"><img src=\"https://colab.research.google.com/assets/colab-badge.svg\" alt=\"Open In Colab\"/></a>"
      ]
    },
    {
      "cell_type": "code",
      "metadata": {
        "id": "Y60jt4Uh5NT_",
        "outputId": "ab0eee29-843a-488e-cb22-32adaae9b20f",
        "colab": {
          "base_uri": "https://localhost:8080/"
        }
      },
      "source": [
        "\"\"\"\n",
        "Array\n",
        "\"\"\"\n",
        "class Array:\n",
        "  def __init__(self, tam):\n",
        "    self.__datos = [ 0 for x in range(tam)] # generador\n",
        "  \n",
        "  def get_item(self, index):\n",
        "    dato=0\n",
        "    if index >= 0 and index < len(self.__datos):\n",
        "      dato = self.__datos[index]\n",
        "    else:\n",
        "      print(\"error en el indice\")           #<---Validación\n",
        "    return dato\n",
        "\n",
        "  def set_item( self , dato , index ):\n",
        "    if index >= 0 and index < len(self.__datos):\n",
        "      self.__datos[index] = dato\n",
        "    else:\n",
        "      print(\"error en el indice\")\n",
        "\n",
        "  def get_lenght( self ):\n",
        "    return len(self.__datos)\n",
        "\n",
        "  def clear( self, dato ):\n",
        "    self.__datos = [dato for x in range(self.__tam)]\n",
        "  \n",
        "  def getIterator( self ):\n",
        "    return _getIterator(self.__datos)\n",
        "\n",
        "class _getIterator:\n",
        "  def __init__(self, arreglo ):\n",
        "    self.__arreglo = arreglo\n",
        "    self.__indice_actual = 0\n",
        "\n",
        "  def __iter__(self):\n",
        "    return self\n",
        "\n",
        "  def __next__( self ):\n",
        "    if self.__indice_actual < len(self.__arreglo):\n",
        "      dato = self.__arreglo[self.__indice_actual]\n",
        "      self.__indice_actual += 1\n",
        "      return dato\n",
        "    else:\n",
        "      raise StopIteration\n",
        "\n",
        "mi_arreglo = Array(10)\n",
        "print(mi_arreglo.get_item(20))\n",
        "\n",
        "mi_arreglo.set_item( 2345, 3)\n",
        "print(mi_arreglo.get_item(3))\n",
        "\n",
        "for x in mi_arreglo.getIterator():\n",
        "  print(x)"
      ],
      "execution_count": 26,
      "outputs": [
        {
          "output_type": "stream",
          "text": [
            "error en el indice\n",
            "0\n",
            "2345\n",
            "0\n",
            "0\n",
            "0\n",
            "2345\n",
            "0\n",
            "0\n",
            "0\n",
            "0\n",
            "0\n",
            "0\n"
          ],
          "name": "stdout"
        }
      ]
    },
    {
      "cell_type": "code",
      "metadata": {
        "id": "mvX5F067GmIv",
        "outputId": "35752d7d-8bec-4d6f-a87e-380ec6979b35",
        "colab": {
          "base_uri": "https://localhost:8080/"
        }
      },
      "source": [
        "# Generadores\n",
        "basura =[\"manzana\", \"pera\"]\n",
        "datos = [ 0 for x in basura ]\n",
        "print(datos)\n",
        "\n",
        "datos = [ x for x in range(5) ]\n",
        "print(datos)\n",
        "\n",
        "basura =[\"manzana\", \"pera\"]\n",
        "datos = [ x.upper() for x in basura ]\n",
        "print(datos)"
      ],
      "execution_count": 15,
      "outputs": [
        {
          "output_type": "stream",
          "text": [
            "[0, 0]\n",
            "[0, 1, 2, 3, 4]\n",
            "['MANZANA', 'PERA']\n"
          ],
          "name": "stdout"
        }
      ]
    },
    {
      "cell_type": "markdown",
      "metadata": {
        "id": "-8gjVXj9IgS0"
      },
      "source": [
        "[[0,0,0], \n",
        " [0,0,0],\n",
        " [0,0,0]]"
      ]
    },
    {
      "cell_type": "code",
      "metadata": {
        "id": "q8hgG8unItVS",
        "outputId": "5f8d8a84-7630-4de1-d523-e711bfae36aa",
        "colab": {
          "base_uri": "https://localhost:8080/"
        }
      },
      "source": [
        "#lista 2 D\n",
        "ren = 4\n",
        "col = 6\n",
        "dos_d = [[0 for x in range(col)] for x in range(ren)]\n",
        "print(dos_d)"
      ],
      "execution_count": 20,
      "outputs": [
        {
          "output_type": "stream",
          "text": [
            "[[0, 0, 0, 0, 0, 0], [0, 0, 0, 0, 0, 0], [0, 0, 0, 0, 0, 0], [0, 0, 0, 0, 0, 0]]\n"
          ],
          "name": "stdout"
        }
      ]
    }
  ]
}