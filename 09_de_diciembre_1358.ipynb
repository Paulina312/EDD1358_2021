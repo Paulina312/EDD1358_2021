{
  "nbformat": 4,
  "nbformat_minor": 0,
  "metadata": {
    "colab": {
      "name": "09 de diciembre_1358.ipynb",
      "provenance": [],
      "collapsed_sections": [],
      "authorship_tag": "ABX9TyMIXHR6GGOHr+QqPyKaPBR6",
      "include_colab_link": true
    },
    "kernelspec": {
      "name": "python3",
      "display_name": "Python 3"
    }
  },
  "cells": [
    {
      "cell_type": "markdown",
      "metadata": {
        "id": "view-in-github",
        "colab_type": "text"
      },
      "source": [
        "<a href=\"https://colab.research.google.com/github/Paulina312/EDD1358_2021/blob/master/09_de_diciembre_1358.ipynb\" target=\"_parent\"><img src=\"https://colab.research.google.com/assets/colab-badge.svg\" alt=\"Open In Colab\"/></a>"
      ]
    },
    {
      "cell_type": "code",
      "metadata": {
        "id": "CmFmEB6xahvu"
      },
      "source": [
        "\"\"\"\n",
        "Array2D\n",
        "\"\"\"\n",
        "\n",
        "class Array2D:\n",
        "\n",
        "    def __init__(self,rows, cols, value):\n",
        "        self.__cols = cols\n",
        "        self.__rows = rows\n",
        "        self.__array=[[value for x in range(self.__cols)] for y in range(self.__rows)]\n",
        "\n",
        "    def to_string(self):\n",
        "        [print(\"---\",end=\"\") for x in range(self.__cols)]\n",
        "        print(\"\")\n",
        "        for ren in self.__array:\n",
        "            print(ren)\n",
        "        [print(\"---\",end=\"\") for x in range(self.__cols)]\n",
        "        print(\"\")\n",
        "\n",
        "    def get_num_rows(self):\n",
        "        return self.__rows\n",
        "\n",
        "    def get_num_cols(self):\n",
        "        return self.__cols\n",
        "\n",
        "    def get_item(self,row,col):\n",
        "        return self.__array[row][col]\n",
        "\n",
        "    def set_item( self , row , col , valor ):\n",
        "        self.__array[row][col]=valor\n",
        "\n",
        "    def clearing(self, valor=0):\n",
        "        for ren in range(self.__rows):\n",
        "            for col in range(self.__cols):\n",
        "                self.__array[ren][col]=valor"
      ],
      "execution_count": 1,
      "outputs": []
    },
    {
      "cell_type": "code",
      "metadata": {
        "id": "KJiyieQqoDlC"
      },
      "source": [
        "class Stack:\n",
        "    def __init__(self):\n",
        "        self.__data = []\n",
        "        self.__size = 0\n",
        "\n",
        "    def pop(self):\n",
        "        return self.__data.pop()\n",
        "\n",
        "    def get_size(self):\n",
        "        return self.__size\n",
        "\n",
        "    def peek(self):\n",
        "        if len(self.__data) > 0:\n",
        "            return self.__data[-1]\n",
        "        else:\n",
        "            return None\n",
        "\n",
        "    def push(self,value):\n",
        "        self.__data.append(value)\n",
        "        self.__size += 1\n",
        "\n",
        "    def to_string(self):\n",
        "        print(\"-\"*6)\n",
        "        for dato in self.__data[::-1]:\n",
        "            print(f\"| {dato} |\")\n",
        "            print(\"/\" * 6)\n",
        "        print(\"\")"
      ],
      "execution_count": 22,
      "outputs": []
    },
    {
      "cell_type": "code",
      "metadata": {
        "id": "n9n-9owGlYbb"
      },
      "source": [
        "class LaberintoADT:\n",
        "  def __init__(self, archivo):\n",
        "    self.__laberinto = Array2D(0,0,0)\n",
        "    self.__camino = Stack()\n",
        "    self.__ren = 0 \n",
        "    self.__col = 0\n",
        "    self.__entrada = (0,0)\n",
        "    \n",
        "    entrada = open(archivo, 'rt' )\n",
        "    datos = entrada.readlines()\n",
        "    self.__ren = int(datos.pop(0).strip())\n",
        "    self.__col = int(datos.pop(0).strip())\n",
        "    self.__entrada = list(datos[0].strip().split(','))\n",
        "    self.__entrada[0] = int(self.__entrada[0]) \n",
        "    self.__entrada[1] = int(self.__entrada[1])\n",
        "    #self.__camino.push(tuple(self.__entrada))\n",
        "    self.__camino.push((self.__entrada[0], self.__entrada[1]))\n",
        "\n",
        "    datos.pop(0) #eliminamos la tupla\n",
        "\n",
        "    self.__laberinto = Array2D(self.__ren, self.__col, '1')\n",
        "    for renglon in range(self.__ren):\n",
        "      info_ren = datos[renglon].strip().split(',')\n",
        "      for columna in range(self.__col):\n",
        "        self.__laberinto.set_item(renglon, columna,info_ren[columna])\n",
        "\n",
        "    #self.__laberinto.to_string()\n",
        "  \n",
        "  def imprimir_camino(self):\n",
        "    self.__camino.to_string()\n",
        "\n",
        "  def mostrar(self):\n",
        "    self.__laberinto.to_string()\n",
        "\n",
        "  def resolver(self):\n",
        "    actual = self.__camino.peek()\n",
        "    #buscar a la izquierda /renglón columna\n",
        "    if self.__laberinto.get_item( actual[0], actual[1]-1) == '0' and self.__laberinto.get_item( actual[0], actual[1]-1) != 'x' and self.__previa != (actual[0], actual[1]-1):\n",
        "      self.__previa = actual\n",
        "      self.__camino.push((actual[0], actual[1]-1))\n",
        "    #buscar arriba\n",
        "    elif self.__laberinto.get_item( actual[0]-1, actual[1]) == '0' and self.__laberinto.get_item( actual[0]-1, actual[1]) != 'x' and self.__previa != (actual[0]-1, actual[1]):\n",
        "      self.__previa = actual\n",
        "      self.__camino.push((actual[0]-1, actual[1]))\n",
        "    #buscar a la derecha\n",
        "    #elif self.__laberinto.get_item( actual[0]-1, actual[1]) == '0' and self.__laberinto.get_item( actual[0]-1, actual[1]) != 'x' and self.__previa != (actual[0]-1, actual[1]):\n",
        "      #self.__previa = actual\n",
        "      #self.__camino.push((actual[0]-1, actual[1]))\n",
        "    #buscar abajo\n",
        "    else:\n",
        "      self.__laberinto.set_item((actual[0], actual[1]), 'x')\n",
        "      self.__camino.pop()\n",
        "  \n",
        "  def otros():\n",
        "    pass\n"
      ],
      "execution_count": 23,
      "outputs": []
    },
    {
      "cell_type": "code",
      "metadata": {
        "colab": {
          "base_uri": "https://localhost:8080/"
        },
        "id": "8TK9iCYBnfYv",
        "outputId": "d521b075-9cf9-41bc-ee47-94f7312d8c5c"
      },
      "source": [
        "#main\n",
        "laberinto = LaberintoADT(\"entrada.txt\")\n",
        "laberinto.mostrar()\n",
        "laberinto.imprimir_camino()"
      ],
      "execution_count": 21,
      "outputs": [
        {
          "output_type": "stream",
          "text": [
            "---------------------\n",
            "['1', '1', '1', '1', '1', '1', '1']\n",
            "['1', '1', '1', '1', '1', '1', '1']\n",
            "['1', '1', '1', '1', '1', '1', '1']\n",
            "['1', '1', '1', '1', '1', '1', '1']\n",
            "['1', '0', '0', '0', '0', '0', 'S']\n",
            "['1', '1', '0', '1', '1', '1', '1']\n",
            "['1', '1', 'E', '1', '1', '1', '1']\n",
            "---------------------\n",
            "------\n",
            "| (6, 2) |\n",
            "//////\n",
            "\n"
          ],
          "name": "stdout"
        }
      ]
    }
  ]
}