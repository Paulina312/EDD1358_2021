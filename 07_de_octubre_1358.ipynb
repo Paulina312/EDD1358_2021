{
  "nbformat": 4,
  "nbformat_minor": 0,
  "metadata": {
    "colab": {
      "name": "07 de octubre_1358.ipynb",
      "provenance": [],
      "authorship_tag": "ABX9TyPFsKQjb1DlvPlPReZvmBWW",
      "include_colab_link": true
    },
    "kernelspec": {
      "name": "python3",
      "display_name": "Python 3"
    }
  },
  "cells": [
    {
      "cell_type": "markdown",
      "metadata": {
        "id": "view-in-github",
        "colab_type": "text"
      },
      "source": [
        "<a href=\"https://colab.research.google.com/github/Paulina312/EDD1358_2021/blob/master/07_de_octubre_1358.ipynb\" target=\"_parent\"><img src=\"https://colab.research.google.com/assets/colab-badge.svg\" alt=\"Open In Colab\"/></a>"
      ]
    },
    {
      "cell_type": "code",
      "metadata": {
        "id": "moF63Yr4m5nX",
        "outputId": "06992325-70f4-4512-b731-6dac85402607",
        "colab": {
          "base_uri": "https://localhost:8080/"
        }
      },
      "source": [
        "autos=[\"mazda\", \"honda\", \"akura\", \"ford\", \"vmw\" ]\n",
        "telefonos=[\"iphone\", \"huawei mate 30\", \"xiaomi S10\", \"alcatel t1000\"]\n",
        "sistemas_operativos=[\"windows\", \"linux\", \"Android\", \"IOS\",  \"MacOs\"]\n",
        "procesadores=[[\"Intel\", 3.1, True],[\"AMD\", 2.7, False],[\"Motorola\", 1.1, False]]\n",
        "\n",
        "lista_nd =[autos, telefonos, sistemas_operativos, procesadores]\n",
        "print(lista_nd)\n",
        "print(lista_nd[2][3])\n",
        "print(lista_nd[1][1][3:6])\n",
        "print(lista_nd[3][1][1])\n",
        "print(lista_nd[3][2][0][2:6])\n",
        "print(lista_nd[3][0][0][-2:-5:-1])\n",
        "\n",
        "colores= [\"rojo\",\"verde\", \"azul\", \"negro\"]\n",
        "flores= [\"margarita\", \"rosa\"]\n",
        "nueva= colores + flores #<---hay que colocarlos en algun lado \n",
        "print(nueva)\n",
        "print(colores)\n",
        "print(flores)\n",
        "\n",
        "# con extend...\n",
        "colores.extend(flores)\n",
        "print(colores)\n",
        "\n",
        "#unpacking de listas\n",
        "print(\"unpacking\")\n",
        "datos_personales= [\"José\",\"Pérez\", \"Juárez\", 22, 1.67, True]\n",
        "nombre= datos_personales[0]\n",
        "print(nombre)\n",
        "nombre, paterno, materno, edad, estatura, fuma= datos_personales #<-------!!!\n",
        "print(f\"Nombre:{nombre} \\n edad:{edad}\")"
      ],
      "execution_count": 39,
      "outputs": [
        {
          "output_type": "stream",
          "text": [
            "[['mazda', 'honda', 'akura', 'ford', 'vmw'], ['iphone', 'huawei mate 30', 'xiaomi S10', 'alcatel t1000'], ['windows', 'linux', 'Android', 'IOS', 'MacOs'], [['Intel', 3.1, True], ['AMD', 2.7, False], ['Motorola', 1.1, False]]]\n",
            "IOS\n",
            "wei\n",
            "2.7\n",
            "toro\n",
            "etn\n",
            "['rojo', 'verde', 'azul', 'negro', 'margarita', 'rosa']\n",
            "['rojo', 'verde', 'azul', 'negro']\n",
            "['margarita', 'rosa']\n",
            "['rojo', 'verde', 'azul', 'negro', 'margarita', 'rosa']\n",
            "unpacking\n",
            "José\n",
            "Nombre:José \n",
            " edad:22\n"
          ],
          "name": "stdout"
        }
      ]
    },
    {
      "cell_type": "code",
      "metadata": {
        "id": "mz2U9joLuLIT",
        "outputId": "1f223c9a-bc76-4e54-e786-18a11ba52ad5",
        "colab": {
          "base_uri": "https://localhost:8080/"
        }
      },
      "source": [
        "#Tuplas\n",
        "bd = ('127.0.0.1','root','toor','1345')\n",
        "print(f\"usuario de la base de datos es {bd[1]}\")\n",
        "#bd(1)= 'user1'\n",
        "print(bd[1:3])"
      ],
      "execution_count": 24,
      "outputs": [
        {
          "output_type": "stream",
          "text": [
            "usuario de la base de datos es root\n",
            "('root', 'toor')\n"
          ],
          "name": "stdout"
        }
      ]
    },
    {
      "cell_type": "code",
      "metadata": {
        "id": "g649kcxtwTPO",
        "outputId": "e53c9cf8-ba2c-45b7-b5c2-2d89c43f84e7",
        "colab": {
          "base_uri": "https://localhost:8080/"
        }
      },
      "source": [
        "#diccionarios\n",
        "alumno= {'nombre':'Juan','edad':22, 'carrera':'ICO'}\n",
        "print(alumno)\n",
        "print(alumno['edad'])\n",
        "alumno= {\n",
        "    'nombre':'Juan', #\",\" son importantes!!!\n",
        "    'edad':22,\n",
        "    'carrera':'ICO',\n",
        "    'dirección':{'calle':'bosques de áfrica', #acentos hecn diferente la palabra\n",
        "                 'número':33,\n",
        "                 'delegación':'nezahualcoyotl',\n",
        "                 'estado':15,\n",
        "                 'nombre_de estado':'Estado de México'\n",
        "                 }\n",
        "}\n",
        "#los métodos son encadenables\n",
        "print(alumno['dirección']['delegación'])\n",
        "print(alumno['dirección']['delegación'][3:7])\n",
        "print(alumno['dirección']['delegación'][3:7].upper())\n",
        "#cambio \n",
        "alumno['edad']= 35\n",
        "print(alumno)\n",
        "alumno['promedio']=9.9\n",
        "#sino existe lo agrega y si existía lo modifica \n",
        "print(alumno)\n",
        "alumno['dirección']['código postal']=17170\n",
        "print(alumno)\n",
        "alumno['materia']={'nombre':'CyP', 'calificación':10}\n",
        "print(alumno)\n",
        "\n",
        "cliente= {'id':1, 'nombre':'Carlos Slim'}\n",
        "print(cliente)\n",
        "#prox. clase arreglos: dentro de diccionarios"
      ],
      "execution_count": 44,
      "outputs": [
        {
          "output_type": "stream",
          "text": [
            "{'nombre': 'Juan', 'edad': 22, 'carrera': 'ICO'}\n",
            "22\n",
            "nezahualcoyotl\n",
            "ahua\n",
            "AHUA\n",
            "{'nombre': 'Juan', 'edad': 35, 'carrera': 'ICO', 'dirección': {'calle': 'bosques de áfrica', 'número': 33, 'delegación': 'nezahualcoyotl', 'estado': 15, 'nombre_de estado': 'Estado de México'}}\n",
            "{'nombre': 'Juan', 'edad': 35, 'carrera': 'ICO', 'dirección': {'calle': 'bosques de áfrica', 'número': 33, 'delegación': 'nezahualcoyotl', 'estado': 15, 'nombre_de estado': 'Estado de México'}, 'promedio': 9.9}\n",
            "{'nombre': 'Juan', 'edad': 35, 'carrera': 'ICO', 'dirección': {'calle': 'bosques de áfrica', 'número': 33, 'delegación': 'nezahualcoyotl', 'estado': 15, 'nombre_de estado': 'Estado de México', 'código postal': 17170}, 'promedio': 9.9}\n",
            "{'nombre': 'Juan', 'edad': 35, 'carrera': 'ICO', 'dirección': {'calle': 'bosques de áfrica', 'número': 33, 'delegación': 'nezahualcoyotl', 'estado': 15, 'nombre_de estado': 'Estado de México', 'código postal': 17170}, 'promedio': 9.9, 'materia': {'nombre': 'CyP', 'calificación': 10}}\n",
            "{'id': 1, 'nombre': 'Carlos Slim'}\n"
          ],
          "name": "stdout"
        }
      ]
    }
  ]
}