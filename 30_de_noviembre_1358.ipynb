{
  "nbformat": 4,
  "nbformat_minor": 0,
  "metadata": {
    "colab": {
      "name": "30 de noviembre_1358.ipynb",
      "provenance": [],
      "authorship_tag": "ABX9TyO0RMA2taacad8KY1D7Void",
      "include_colab_link": true
    },
    "kernelspec": {
      "name": "python3",
      "display_name": "Python 3"
    }
  },
  "cells": [
    {
      "cell_type": "markdown",
      "metadata": {
        "id": "view-in-github",
        "colab_type": "text"
      },
      "source": [
        "<a href=\"https://colab.research.google.com/github/Paulina312/EDD1358_2021/blob/master/30_de_noviembre_1358.ipynb\" target=\"_parent\"><img src=\"https://colab.research.google.com/assets/colab-badge.svg\" alt=\"Open In Colab\"/></a>"
      ]
    },
    {
      "cell_type": "code",
      "metadata": {
        "id": "n3lnAWeh1lTw"
      },
      "source": [
        "#Pilas:\n",
        "\n",
        "class Stack:\n",
        "  def __init__(self):\n",
        "    self.__data = []\n",
        "    self.__size = 0\n",
        "  \n",
        "  def pop(self):\n",
        "    return self.__data.pop()\n",
        "  \n",
        "  def peek(self):\n",
        "    return self.__data[-1]\n",
        "  \n",
        "  def push(self, value):\n",
        "    self.__data.append(value)\n",
        "  \n",
        "  def to_string(self):\n",
        "    print(\"-----\")\n",
        "    for dato in self.__data[::-1]:\n",
        "      print(f\"| {dato} |\")\n",
        "      print(\"-----\")\n"
      ],
      "execution_count": 3,
      "outputs": []
    },
    {
      "cell_type": "code",
      "metadata": {
        "colab": {
          "base_uri": "https://localhost:8080/"
        },
        "id": "3weO_WA6ABpP",
        "outputId": "2c9d3414-8c5d-4555-ee59-b97e6dabbdd5"
      },
      "source": [
        "pl = Stack()\n",
        "pl.push(34)\n",
        "pl.push(10)\n",
        "pl.push(45)\n",
        "pl.push(4)\n",
        "pl.push(23)\n",
        "pl.push(33)\n",
        "valor = pl.pop()\n",
        "print(valor*2)\n",
        "pl.to_string()\n",
        "valor = pl.peek()\n",
        "print(valor*2)\n",
        "pl.to_string()"
      ],
      "execution_count": 7,
      "outputs": [
        {
          "output_type": "stream",
          "text": [
            "66\n",
            "-----\n",
            "| 23 |\n",
            "-----\n",
            "| 4 |\n",
            "-----\n",
            "| 45 |\n",
            "-----\n",
            "| 10 |\n",
            "-----\n",
            "| 34 |\n",
            "-----\n",
            "46\n",
            "-----\n",
            "| 23 |\n",
            "-----\n",
            "| 4 |\n",
            "-----\n",
            "| 45 |\n",
            "-----\n",
            "| 10 |\n",
            "-----\n",
            "| 34 |\n",
            "-----\n"
          ],
          "name": "stdout"
        }
      ]
    },
    {
      "cell_type": "code",
      "metadata": {
        "colab": {
          "base_uri": "https://localhost:8080/"
        },
        "id": "LFY3v8UXCDNQ",
        "outputId": "6c8216b0-08d6-4464-c6b4-28ff0764b03c"
      },
      "source": [
        "# aplicaciones de la estructura Stack\n",
        "# 1.- Validación de parentesis balanceados '(', '{' y '['\n",
        "# Solución con el algoritmo de pila vacía\n",
        "\n",
        "cadena = \"b=3*(5+(4/2))\"\n",
        "pila = Stack()\n",
        "pila.push(\"#\") # Carácter de pila vacía\n",
        "for elem in cadena:\n",
        "  if elem == '(':\n",
        "    pila.push('*')\n",
        "  elif elem == ')':\n",
        "    pila.pop()\n",
        "  else:\n",
        "    pass\n",
        "if pila.peek() == '#':\n",
        "  print(\"La expresión esta balanceada en paréntesis\")\n",
        "else:\n",
        "  print(\"La expresión no está balanceada\")\n",
        "\n",
        "# caso 2:\n",
        "cadena = \")))()\"\n",
        "pila = Stack()\n",
        "pila.push(\"#\") # Carácter de pila vacía\n",
        "for elem in cadena:\n",
        "  if elem == '(':\n",
        "    pila.push('*')\n",
        "  elif elem == ')':\n",
        "    if pila.peek() == '#':\n",
        "      pila.push('*')\n",
        "    else:\n",
        "      pila.pop()\n",
        "  else:\n",
        "    pass\n",
        "if pila.peek() == '#':\n",
        "  print(\"La expresión esta balanceada en paréntesis\")\n",
        "else:\n",
        "  print(\"La expresión no está balanceada\")"
      ],
      "execution_count": 19,
      "outputs": [
        {
          "output_type": "stream",
          "text": [
            "La expresión esta balanceada en paréntesis\n",
            "La expresión no está balanceada\n"
          ],
          "name": "stdout"
        }
      ]
    }
  ]
}