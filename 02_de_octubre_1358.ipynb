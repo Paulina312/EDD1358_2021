{
  "nbformat": 4,
  "nbformat_minor": 0,
  "metadata": {
    "colab": {
      "name": "02 de octubre_1358.ipynb",
      "provenance": [],
      "authorship_tag": "ABX9TyNcrQzFzf8mKd1tiRV9lyEp",
      "include_colab_link": true
    },
    "kernelspec": {
      "name": "python3",
      "display_name": "Python 3"
    }
  },
  "cells": [
    {
      "cell_type": "markdown",
      "metadata": {
        "id": "view-in-github",
        "colab_type": "text"
      },
      "source": [
        "<a href=\"https://colab.research.google.com/github/Paulina312/EDD1358_2021/blob/master/02_de_octubre_1358.ipynb\" target=\"_parent\"><img src=\"https://colab.research.google.com/assets/colab-badge.svg\" alt=\"Open In Colab\"/></a>"
      ]
    },
    {
      "cell_type": "markdown",
      "metadata": {
        "id": "n6B_IX663J49"
      },
      "source": [
        "#Tipo de datos\n",
        "- string          str\n",
        "- Enteros         int\n",
        "- Número flotante float\n",
        "- Lógico          bool\n",
        "- Complejo        complex\n",
        "- Listas          list\n",
        "- Tuplas          tuple\n",
        "- Diccionarios    dict\n",
        "- Conjuntos       set"
      ]
    },
    {
      "cell_type": "code",
      "metadata": {
        "id": "kLZim5oS26hM",
        "outputId": "543e3caf-64a3-4750-c96b-d037d9c72d2d",
        "colab": {
          "base_uri": "https://localhost:8080/",
          "height": 170
        }
      },
      "source": [
        "# string, puedes ocupar '' \"\" o \"\"\"             \n",
        "universidad = \"   universidad     nacional    autonoma   de     mexico     \"\n",
        "print(universidad)\n",
        "# cuando el string es una sola palabra '...'\n",
        "carrera = 'ico'\n",
        "area = 'software'\n",
        "division = 'división de las ciencias físico matemáticas'\n",
        "print(carrera, area)\n",
        "print(division)\n",
        "#\"\"\"   varios renglones\n",
        "frase = \"\"\"\n",
        "si funciona \n",
        "¡¡¡No\n",
        "lo \n",
        "arregles!!!\n",
        "\"\"\"\n",
        "print(frase)\n"
      ],
      "execution_count": 5,
      "outputs": [
        {
          "output_type": "stream",
          "text": [
            "   universidad     nacional    autonoma   de     mexico     \n",
            "ico software\n",
            "división de las ciencias físico matemáticas\n",
            "\n",
            "si funciona \n",
            "¡¡¡No\n",
            "lo \n",
            "arregles!!!\n",
            "\n"
          ],
          "name": "stdout"
        }
      ]
    },
    {
      "cell_type": "code",
      "metadata": {
        "id": "ql6v01TH52er",
        "outputId": "be645c59-6adf-47af-9575-a651e2824ced",
        "colab": {
          "base_uri": "https://localhost:8080/",
          "height": 204
        }
      },
      "source": [
        "print(universidad.upper())\n",
        "#todas mayúsculas\n",
        "print(universidad)\n",
        "print(universidad.title())\n",
        "# 1ra de c/palabra mayúscula\n",
        "universidad = universidad.strip()\n",
        "print(universidad)\n",
        "#quitar espacios antes y después\n",
        "#dejar solo un espacio entre las palabras:\n",
        "lista = universidad.split(\" \")\n",
        "print(lista)\n",
        "nueva = \"\"\n",
        "for l in lista:\n",
        "  if len(l) > 0:\n",
        "    nueva += l + \" \"\n",
        "print(nueva)\n",
        "# separar un string en diversos elementos de una lista\n",
        "numeros = \"1, 2, 34, 56, 100\"\n",
        "separados = numeros.split(\",\")\n",
        "print(separados)\n",
        "# convertirlos en numeros enteros\n",
        "numeros_int = []\n",
        "for num in separados: \n",
        "  numeros_int.append( int(num))\n",
        "print(numeros_int)\n",
        "print(nueva)\n",
        "# encontrar el lugar de elementos\n",
        "print(nueva.index(\"na\"))\n",
        "#remplazar\n",
        "print(nueva.replace(' ', '_'))"
      ],
      "execution_count": 27,
      "outputs": [
        {
          "output_type": "stream",
          "text": [
            "UNIVERSIDAD     NACIONAL    AUTONOMA   DE     MEXICO\n",
            "universidad     nacional    autonoma   de     mexico\n",
            "Universidad     Nacional    Autonoma   De     Mexico\n",
            "universidad     nacional    autonoma   de     mexico\n",
            "['universidad', '', '', '', '', 'nacional', '', '', '', 'autonoma', '', '', 'de', '', '', '', '', 'mexico']\n",
            "universidad nacional autonoma de mexico \n",
            "['1', ' 2', ' 34', ' 56', ' 100']\n",
            "[1, 2, 34, 56, 100]\n",
            "universidad nacional autonoma de mexico \n",
            "12\n",
            "universidad_nacional_autonoma_de_mexico_\n"
          ],
          "name": "stdout"
        }
      ]
    },
    {
      "cell_type": "markdown",
      "metadata": {
        "id": "gcv_kvbU_sdE"
      },
      "source": [
        "#slicing\n",
        "sintaxis [ inicio; stop; incremento]\n"
      ]
    },
    {
      "cell_type": "code",
      "metadata": {
        "id": "6aOr3yM-_3kZ",
        "outputId": "d817e849-a032-4d33-ad6b-ad560f5e9ef1",
        "colab": {
          "base_uri": "https://localhost:8080/",
          "height": 136
        }
      },
      "source": [
        "nueva = \" universidad nacional autonoma de mexico\"\n",
        "print( nueva[0] )\n",
        "nueva = nueva.strip()\n",
        "print(nueva[len(nueva) -1])\n",
        "print(nueva[-2])\n",
        "#slicing\n",
        "print(nueva[ 12: 20: 1])\n",
        "print( nueva[ -6: : 1] )\n",
        "#mexico al reves\n",
        "print(nueva[-1: -7: -1])\n",
        "#valores por defecto [0: long de lista: 1]\n",
        "print(nueva[ ::2])"
      ],
      "execution_count": 50,
      "outputs": [
        {
          "output_type": "stream",
          "text": [
            " \n",
            "o\n",
            "c\n",
            "nacional\n",
            "mexico\n",
            "ocixem\n",
            "uiesddncoa uooad eio\n"
          ],
          "name": "stdout"
        }
      ]
    },
    {
      "cell_type": "markdown",
      "metadata": {
        "id": "bGkYQW4FEHFu"
      },
      "source": [
        "#bool\n",
        "Acepta 2 valores \n",
        "- True bool(1)\n",
        "- False bool(0)"
      ]
    },
    {
      "cell_type": "code",
      "metadata": {
        "id": "p9JeDYCIEDUi",
        "outputId": "9e00de60-ad0d-423a-f2c7-f5c364b368bd",
        "colab": {
          "base_uri": "https://localhost:8080/",
          "height": 85
        }
      },
      "source": [
        "#bool\n",
        "print(bool(0))\n",
        "print(bool(432423))\n",
        "flag = 0\n",
        "print(bool(flag))\n",
        "print(True)"
      ],
      "execution_count": 52,
      "outputs": [
        {
          "output_type": "stream",
          "text": [
            "False\n",
            "True\n",
            "False\n",
            "True\n"
          ],
          "name": "stdout"
        }
      ]
    },
    {
      "cell_type": "markdown",
      "metadata": {
        "id": "Z9t_hA5tFNgc"
      },
      "source": [
        "# Para un comentario de una linea se pone 1 #\n",
        "para un comentario de multiples lineas se utilizan, equivalente a /* */ de java y leng c se utiliza \"\"\""
      ]
    },
    {
      "cell_type": "code",
      "metadata": {
        "id": "_EXsToGpFdrv"
      },
      "source": [
        "# este es un comentario de línea simple\n",
        "\n",
        "\"\"\" \n",
        "Este\n",
        " es un \n",
        "    comentario de\n",
        "      multiple línea\n",
        "\"\"\""
      ],
      "execution_count": null,
      "outputs": []
    },
    {
      "cell_type": "markdown",
      "metadata": {
        "id": "F7u4FdtQFzxK"
      },
      "source": [
        "#Print\n",
        "Hay 4 formas de ocupar print\n",
        "1. con coma (,)\n",
        "2. con signo + (+)\n",
        "3. con la función format() de la clase string\n",
        "4. con el operador f\""
      ]
    },
    {
      "cell_type": "code",
      "metadata": {
        "id": "ugYk_kwxGN0D",
        "outputId": "8751e74c-b8cf-4077-a424-c765076e622e",
        "colab": {
          "base_uri": "https://localhost:8080/",
          "height": 85
        }
      },
      "source": [
        "# con comas\n",
        "cantidad = 2\n",
        "precio_cheetos = 8\n",
        "precio_fanta = 12\n",
        "print(cantidad, precio_cheetos, precio_fanta)\n",
        "\n",
        "# signo + solo opera con string\n",
        "print(\"hola\"+\"mundo\")\n",
        "print( cantidad + precio_cheetos + precio_fanta)\n",
        "print( str(cantidad) + str(precio_cheetos) + str(precio_fanta))"
      ],
      "execution_count": 55,
      "outputs": [
        {
          "output_type": "stream",
          "text": [
            "2 8 12\n",
            "holamundo\n",
            "22\n",
            "2812\n"
          ],
          "name": "stdout"
        }
      ]
    }
  ]
}