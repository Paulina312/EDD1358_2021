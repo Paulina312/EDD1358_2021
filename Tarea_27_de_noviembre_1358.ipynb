{
  "nbformat": 4,
  "nbformat_minor": 0,
  "metadata": {
    "colab": {
      "name": "Tarea 27 de noviembre_1358.ipynb",
      "provenance": [],
      "authorship_tag": "ABX9TyNo/7lHQx5ZjRFZYBQaQyMo",
      "include_colab_link": true
    },
    "kernelspec": {
      "name": "python3",
      "display_name": "Python 3"
    }
  },
  "cells": [
    {
      "cell_type": "markdown",
      "metadata": {
        "id": "view-in-github",
        "colab_type": "text"
      },
      "source": [
        "<a href=\"https://colab.research.google.com/github/Paulina312/EDD1358_2021/blob/master/Tarea_27_de_noviembre_1358.ipynb\" target=\"_parent\"><img src=\"https://colab.research.google.com/assets/colab-badge.svg\" alt=\"Open In Colab\"/></a>"
      ]
    },
    {
      "cell_type": "code",
      "metadata": {
        "id": "B5dYub0LeK5s"
      },
      "source": [
        "#Lista circular simplemente ligada:\n",
        "\n",
        "class Nodo:\n",
        "  def __init__(self, dato, siguiente=None):\n",
        "    self.dato = dato\n",
        "    self.siguiente = siguiente\n",
        "\n",
        "class CircularList:\n",
        "  def __init__(self):\n",
        "    self.__ref = None\n",
        "    self.__size = 0\n",
        "\n",
        "  def get_size(self):\n",
        "    return self.__size\n",
        "\n",
        "  def is_empty(self):\n",
        "    return self.__size == 0\n",
        "  \n",
        "  def insert(self, value):\n",
        "    nuevo = Nodo(value)\n",
        "    if self.is_empty():\n",
        "      self.__ref = nuevo\n",
        "      nuevo.siguiente = nuevo\n",
        "      self.__size += 1\n",
        "    else:\n",
        "      if self.search(value):\n",
        "        pass\n",
        "      else:\n",
        "        curr_node = self.__ref\n",
        "        if curr_node.dato < value:\n",
        "          nuevo.siguiente = curr_node.siguiente\n",
        "          curr_node.siguiente = nuevo\n",
        "          self.__ref = nuevo \n",
        "        else:\n",
        "          while curr_node.siguiente.dato < value:\n",
        "            curr_node = curr_node.siguiente\n",
        "          nuevo.siguiente = curr_node.siguiente\n",
        "          curr_node.siguiente = nuevo\n",
        "        self.__size += 1\n",
        "  \n",
        "  def transversal(self):\n",
        "    if self.is_empty():\n",
        "      print(\"Lista vacía\")\n",
        "    else:\n",
        "      curr_node = self.__ref.siguiente\n",
        "      while curr_node != self.__ref:\n",
        "        print(f\"-> {curr_node.dato} --\", end=\"\")\n",
        "        curr_node = curr_node.siguiente\n",
        "    print(f\"-> {self.__ref.dato} --->\")\n",
        "  \n",
        "  def search(self, value):\n",
        "    if self.is_empty():\n",
        "      pass\n",
        "    else:\n",
        "      curr_node = self.__ref.siguiente\n",
        "      while curr_node.dato != value and curr_node != self.__ref:\n",
        "        curr_node = curr_node.siguiente\n",
        "      if curr_node.dato == value:\n",
        "        return True\n",
        "      else: \n",
        "        return False\n",
        "\n",
        "  def remove(self, value):\n",
        "    if self.search(value):\n",
        "      curr_node = self.__ref\n",
        "      if curr_node.dato == value:\n",
        "        while curr_node.siguiente != self.__ref:\n",
        "          curr_node = curr_node.siguiente\n",
        "        curr_node.siguiente = self.__ref.siguiente\n",
        "        self.__ref = curr_node\n",
        "      else:\n",
        "        while curr_node.siguiente.dato != value and curr_node.siguiente != self.__ref:\n",
        "          curr_node = curr_node.siguiente\n",
        "        if curr_node.siguiente.dato == value:\n",
        "          curr_node.siguiente = curr_node.siguiente.siguiente\n",
        "      self.__size -= 1\n",
        "    else:\n",
        "      pass"
      ],
      "execution_count": 111,
      "outputs": []
    },
    {
      "cell_type": "code",
      "metadata": {
        "colab": {
          "base_uri": "https://localhost:8080/"
        },
        "id": "xSLJuMam5aDC",
        "outputId": "8f06f1f3-f267-4e98-892c-f9f7f4d21126"
      },
      "source": [
        "lc = CircularList()\n",
        "print(lc.is_empty())\n",
        "print(lc.search(3))\n",
        "lc.insert(10)\n",
        "lc.transversal()\n",
        "lc.insert(15)\n",
        "lc.insert(13)\n",
        "lc.insert(17)\n",
        "lc.insert(25)\n",
        "lc.insert(3)\n",
        "lc.transversal()\n",
        "print(lc.search(25))\n",
        "print(lc.search(18))\n",
        "lc.insert(13)\n",
        "lc.transversal()\n",
        "lc.remove(3)\n",
        "lc.remove(15)\n",
        "lc.remove(25)\n",
        "lc.transversal()"
      ],
      "execution_count": 116,
      "outputs": [
        {
          "output_type": "stream",
          "text": [
            "True\n",
            "None\n",
            "-> 10 --->\n",
            "-> 3 ---> 10 ---> 13 ---> 15 ---> 17 ---> 25 --->\n",
            "True\n",
            "False\n",
            "-> 3 ---> 10 ---> 13 ---> 15 ---> 17 ---> 25 --->\n",
            "-> 10 ---> 13 ---> 17 --->\n"
          ],
          "name": "stdout"
        }
      ]
    }
  ]
}