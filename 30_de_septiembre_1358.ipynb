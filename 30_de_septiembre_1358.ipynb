{
  "nbformat": 4,
  "nbformat_minor": 0,
  "metadata": {
    "colab": {
      "name": "30 de septiembre_1358.ipynb",
      "provenance": [],
      "authorship_tag": "ABX9TyPqU56AwwC9CxiPT6mEgJUR",
      "include_colab_link": true
    },
    "kernelspec": {
      "name": "python3",
      "display_name": "Python 3"
    }
  },
  "cells": [
    {
      "cell_type": "markdown",
      "metadata": {
        "id": "view-in-github",
        "colab_type": "text"
      },
      "source": [
        "<a href=\"https://colab.research.google.com/github/Paulina312/EDD1358_2021/blob/master/30_de_septiembre_1358.ipynb\" target=\"_parent\"><img src=\"https://colab.research.google.com/assets/colab-badge.svg\" alt=\"Open In Colab\"/></a>"
      ]
    },
    {
      "cell_type": "markdown",
      "metadata": {
        "id": "fMdIOqwIsq_B"
      },
      "source": [
        "# Fundamentos de python\n",
        "## tipos de datos básicos\n",
        "edad = 13\n",
        "nombre = \"Jose\"\n",
        "estatura = 1.67\n",
        "tiene_ine = True\n",
        "\n",
        "####compuestos\n",
        "\n",
        "####Listas\n",
        "son mutables\n",
        "se accede a los elementos via el indice\n",
        "los elementos pueden ser de diferente tipo\n",
        "\n",
        "lista_ejemplo = [\"manzana\", 1.57, True, [\"rojo\", \"azul\"]]\n",
        "\n",
        "####Tuplas\n",
        "son inmutables\n",
        "se accede a los elementos via el indice\n",
        "los elementos pueden ser de diferente tipo\n",
        "\n",
        "tupla_ejemplo = (\"root\", \"123,322,45\", \"1234dios\")\n",
        "\n",
        "####Dictionarios\n",
        "son equivalentes\n",
        "\n",
        "####Sets\n",
        "son datos agrupados\n"
      ]
    },
    {
      "cell_type": "code",
      "metadata": {
        "id": "Iuj3KgfjscaS",
        "outputId": "7311282a-4650-4737-b236-a867bfd3e10c",
        "colab": {
          "base_uri": "https://localhost:8080/",
          "height": 221
        }
      },
      "source": [
        "lista_ejemplo = [\"manzana\", 1.57, True, [\"rojo\", \"azul\"]]\n",
        "#comienzan a contar desde 0\n",
        "#como acceder a un elemento\n",
        "print(lista_ejemplo[1])\n",
        "print(lista_ejemplo[3])\n",
        "print(lista_ejemplo[3][1])\n",
        "\n",
        "#como modificar un elemnto\n",
        "lista_ejemplo[0] = \"Manzana\"\n",
        "print(lista_ejemplo[0])\n",
        "\n",
        "#append = agrega elementos a la lista\n",
        "lista_ejemplo.append(\"iphone\")\n",
        "print(lista_ejemplo)\n",
        "\n",
        "#pop = quite el último elemento de la lista\n",
        "valor = lista_ejemplo.pop()\n",
        "print(valor)\n",
        "print(lista_ejemplo)\n",
        "\n",
        "#para consultar funciones:\n",
        "# dir(list)\n",
        "# help(list)\n",
        "\n",
        "print(\"-----------\")\n",
        "#insert: (posición, elemento agregado)\n",
        "lista_ejemplo.insert(1, \"Huawei\")\n",
        "print(lista_ejemplo)\n",
        "\n",
        "conteo = lista_ejemplo.count(\"Huawei\")\n",
        "print(conteo)\n",
        "\n",
        "colores = [\"rosa\", \"fiusha\", \"negro\"]\n",
        "lista_ejemplo.append(colores)\n",
        "print(lista_ejemplo)\n",
        "\n",
        "#append: agrega la lista como otro elemento\n",
        "#extend: fusiona 2 listas\n",
        "lista_ejemplo.extend(colores)\n",
        "print(lista_ejemplo)"
      ],
      "execution_count": 21,
      "outputs": [
        {
          "output_type": "stream",
          "text": [
            "1.57\n",
            "['rojo', 'azul']\n",
            "azul\n",
            "Manzana\n",
            "['Manzana', 1.57, True, ['rojo', 'azul'], 'iphone']\n",
            "iphone\n",
            "['Manzana', 1.57, True, ['rojo', 'azul']]\n",
            "-----------\n",
            "['Manzana', 'Huawei', 1.57, True, ['rojo', 'azul']]\n",
            "1\n",
            "['Manzana', 'Huawei', 1.57, True, ['rojo', 'azul'], ['rosa', 'fiusha', 'negro']]\n",
            "['Manzana', 'Huawei', 1.57, True, ['rojo', 'azul'], ['rosa', 'fiusha', 'negro'], 'rosa', 'fiusha', 'negro']\n"
          ],
          "name": "stdout"
        }
      ]
    }
  ]
}