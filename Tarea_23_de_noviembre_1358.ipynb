{
  "nbformat": 4,
  "nbformat_minor": 0,
  "metadata": {
    "colab": {
      "name": "Tarea 23 de noviembre_1358.ipynb",
      "provenance": [],
      "authorship_tag": "ABX9TyPUz9vPxTMFvIYKQ04R10/n",
      "include_colab_link": true
    },
    "kernelspec": {
      "name": "python3",
      "display_name": "Python 3"
    }
  },
  "cells": [
    {
      "cell_type": "markdown",
      "metadata": {
        "id": "view-in-github",
        "colab_type": "text"
      },
      "source": [
        "<a href=\"https://colab.research.google.com/github/Paulina312/EDD1358_2021/blob/master/Tarea_23_de_noviembre_1358.ipynb\" target=\"_parent\"><img src=\"https://colab.research.google.com/assets/colab-badge.svg\" alt=\"Open In Colab\"/></a>"
      ]
    },
    {
      "cell_type": "code",
      "metadata": {
        "id": "kd3P40H8_dHb"
      },
      "source": [
        "class Nodo:\n",
        "  def __init__(self, dato, siguiente = None):\n",
        "    self.dato = dato\n",
        "    self.siguiente = siguiente\n",
        "\n",
        "class LinkedList:\n",
        "  def __init__(self):\n",
        "    self.__head = None\n",
        "\n",
        "  def is_empty(self):\n",
        "    return self.__head == None\n",
        "  \n",
        "  def get_tail(self):\n",
        "    curr_node = self.__head\n",
        "    while curr_node != None and curr_node.siguiente != None :\n",
        "        curr_node = curr_node.siguiente\n",
        "    return curr_node\n",
        "\n",
        "  def append(self, value):\n",
        "    nuevo = Nodo(value)\n",
        "    if self.__head == None:\n",
        "      self.__head = nuevo\n",
        "    else:\n",
        "      self.get_tail().siguiente = nuevo\n",
        "\n",
        "  def prepend(self, value):\n",
        "    nuevo = Nodo(value, self.__head)\n",
        "    self.__head = nuevo\n",
        "\n",
        "  def transversal(self):\n",
        "    curr_node = self.__head\n",
        "    if curr_node == None: \n",
        "      print(\"Lista vacia\")     #si la lista esta vacia\n",
        "    else:\n",
        "      while curr_node != None:\n",
        "        print(f\"  {curr_node.dato} -->\", end= \"\")\n",
        "        curr_node = curr_node.siguiente\n",
        "    print(\"\")\n",
        "\n",
        "  def remove(self, value):\n",
        "    curr_node = self.__head\n",
        "    if curr_node.dato == value:\n",
        "      self.__head = curr_node.siguiente\n",
        "      self.transversal()\n",
        "    else:\n",
        "      while curr_node.siguiente.dato != value and curr_node.siguiente.siguiente != None:\n",
        "        curr_node = curr_node.siguiente\n",
        "      if curr_node.siguiente.dato == value:\n",
        "        curr_node.siguiente = curr_node.siguiente.siguiente\n",
        "        self.transversal()\n",
        "      else:\n",
        "        print(\"No existe un nodo con ese valor\")\n",
        "    \n",
        "\n",
        "  def pop(self, pos=0):\n",
        "    curr_node = self.__head\n",
        "    x = 1\n",
        "    if pos == 0:\n",
        "      print(self.__head.dato)\n",
        "      self.__head = curr_node.siguiente\n",
        "    else:\n",
        "      while curr_node.siguiente != None and x < pos:\n",
        "        x = x+1\n",
        "        curr_node = curr_node.siguiente\n",
        "      if curr_node.siguiente == None:\n",
        "        print(\"Elemento fuera de rango\")\n",
        "      else:\n",
        "        print(curr_node.siguiente.dato)\n",
        "        curr_node.siguiente = curr_node.siguiente.siguiente\n",
        "\n",
        "\n",
        "  def Add_before(self, reference_value, value):\n",
        "    nuevo = Nodo(value)\n",
        "    curr_node = self.__head\n",
        "    while( curr_node.siguiente.dato != reference_value ):\n",
        "        curr_node = curr_node.siguiente\n",
        "    nuevo.siguiente = curr_node.siguiente\n",
        "    curr_node.siguiente = nuevo\n",
        "\n",
        "  def Add_after(self, reference_value, value):\n",
        "    nuevo = Nodo(value)\n",
        "    curr_node = self.__head\n",
        "    while( curr_node.dato != reference_value ):\n",
        "        curr_node = curr_node.siguiente\n",
        "    nuevo.siguiente = curr_node.siguiente\n",
        "    curr_node.siguiente = nuevo\n",
        "\n"
      ],
      "execution_count": 174,
      "outputs": []
    },
    {
      "cell_type": "code",
      "metadata": {
        "colab": {
          "base_uri": "https://localhost:8080/"
        },
        "id": "7ShcX-JS4KX-",
        "outputId": "b43b6af5-3010-46fa-e00f-8a0c6e106f3e"
      },
      "source": [
        "l = LinkedList()\n",
        "print(f\"l esta vacia?= {l.is_empty()}\")\n",
        "x = l.get_tail()\n",
        "print(x)\n",
        "l.append(10)\n",
        "l.append(20)\n",
        "l.append(30)\n",
        "l.append(40)\n",
        "l.transversal()\n",
        "l.prepend(5)\n",
        "l.transversal()\n",
        "l.Add_before(30,25)\n",
        "l.transversal()\n",
        "l.Add_after(30,35)\n",
        "l.transversal()\n",
        "l.remove(5)\n",
        "l.remove(20)\n",
        "l.remove(50)\n",
        "l.remove(40)\n",
        "l.pop(3)\n",
        "l.pop()\n",
        "l.pop(4)\n",
        "l.transversal()"
      ],
      "execution_count": 176,
      "outputs": [
        {
          "output_type": "stream",
          "text": [
            "l esta vacia?= True\n",
            "None\n",
            "  10 -->  20 -->  30 -->  40 -->\n",
            "  5 -->  10 -->  20 -->  30 -->  40 -->\n",
            "  5 -->  10 -->  20 -->  25 -->  30 -->  40 -->\n",
            "  5 -->  10 -->  20 -->  25 -->  30 -->  35 -->  40 -->\n",
            "  10 -->  20 -->  25 -->  30 -->  35 -->  40 -->\n",
            "  10 -->  25 -->  30 -->  35 -->  40 -->\n",
            "No existe un nodo con ese valor\n",
            "  10 -->  25 -->  30 -->  35 -->\n",
            "35\n",
            "10\n",
            "Elemento fuera de rango\n",
            "  25 -->  30 -->\n"
          ],
          "name": "stdout"
        }
      ]
    }
  ]
}