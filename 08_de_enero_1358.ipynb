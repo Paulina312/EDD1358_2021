{
  "nbformat": 4,
  "nbformat_minor": 0,
  "metadata": {
    "colab": {
      "name": "08 de enero_1358.ipynb",
      "provenance": [],
      "authorship_tag": "ABX9TyMJe1MVZRvtGvwNYPso1sfv",
      "include_colab_link": true
    },
    "kernelspec": {
      "name": "python3",
      "display_name": "Python 3"
    }
  },
  "cells": [
    {
      "cell_type": "markdown",
      "metadata": {
        "id": "view-in-github",
        "colab_type": "text"
      },
      "source": [
        "<a href=\"https://colab.research.google.com/github/Paulina312/EDD1358_2021/blob/master/08_de_enero_1358.ipynb\" target=\"_parent\"><img src=\"https://colab.research.google.com/assets/colab-badge.svg\" alt=\"Open In Colab\"/></a>"
      ]
    },
    {
      "cell_type": "code",
      "metadata": {
        "id": "KpDoOhTBfUih"
      },
      "source": [
        "class Queue:\r\n",
        "  def __init__(self):\r\n",
        "    self.__data = list()\r\n",
        "\r\n",
        "  def is_empty(self):\r\n",
        "    return len(self.__data) == 0\r\n",
        "  \r\n",
        "  def lenght(self):\r\n",
        "    return len(self.__data)\r\n",
        "  \r\n",
        "  def enqueue(self, item):\r\n",
        "    self.__data.append(item)\r\n",
        "  \r\n",
        "  def dequeue(self):\r\n",
        "    if not self.is_empty():\r\n",
        "      return self.__data.pop(0)\r\n",
        "    else:\r\n",
        "      return None\r\n",
        "\r\n",
        "  def to_string(self):\r\n",
        "    cadena = \"\"\r\n",
        "    for elem in self.__data:\r\n",
        "      cadena = cadena + \"| \" + elem\r\n",
        "    cadena = cadena + \"|\"\r\n",
        "    return cadena"
      ],
      "execution_count": 9,
      "outputs": []
    },
    {
      "cell_type": "code",
      "metadata": {
        "id": "-CMqSCg1pbQO"
      },
      "source": [
        "class BoundedPriorityQueue:\r\n",
        "  def __init__(self, niveles):\r\n",
        "    self.__data = [Queue() for x in range(niveles) ]\r\n",
        "    self.__size = 0\r\n",
        "  \r\n",
        "  def is_empty(self):\r\n",
        "    return self.__size == 0\r\n",
        "\r\n",
        "  def lenght(self):\r\n",
        "    return self.__size\r\n",
        "\r\n",
        "  def enqueue(self, prioridad, elem):\r\n",
        "    if prioridad < len(self.__data) and prioridad >= 0:\r\n",
        "      self.__data[prioridad].enqueue(elem)\r\n",
        "      self.__size += 1\r\n",
        "    else:\r\n",
        "      print(\"Prioridad esta fuera de rango\")\r\n",
        "\r\n",
        "  def dequeue(self):\r\n",
        "    if not self.is_empty():\r\n",
        "      n = 0\r\n",
        "      while self.__data[n].is_empty():\r\n",
        "        n +=1\r\n",
        "      return self.__data[n].dequeue()\r\n",
        "      self.__size -= 1\r\n",
        "    else:\r\n",
        "      return None\r\n",
        "\r\n",
        "  def to_string(self):\r\n",
        "    for nivel in range(len(self.__data)):\r\n",
        "      print(f\"Nivel {nivel} --> {self.__data[nivel].to_string()} \")\r\n"
      ],
      "execution_count": 10,
      "outputs": []
    },
    {
      "cell_type": "code",
      "metadata": {
        "colab": {
          "base_uri": "https://localhost:8080/"
        },
        "id": "4m8sCtHj2E6r",
        "outputId": "89641286-15b5-445a-f9dd-bb5e63c4c1f8"
      },
      "source": [
        "cpa = BoundedPriorityQueue(5)\r\n",
        "\"\"\"\r\n",
        "prioridad   nombre\r\n",
        "2           Diana\r\n",
        "3           Santiago\r\n",
        "0           Roberto\r\n",
        "0           Pedro\r\n",
        "2           Maria\r\n",
        "3           Jose\r\n",
        "4           Mayra\r\n",
        "4           Elena\r\n",
        "\"\"\"\r\n",
        "cpa.enqueue(2, \"Diana\")\r\n",
        "cpa.to_string()\r\n",
        "cpa.enqueue(3, \"Santiago\")\r\n",
        "cpa.enqueue(0, \"Roberto\")\r\n",
        "cpa.enqueue(0, \"Pedro\")\r\n",
        "cpa.enqueue(2, \"Maria\")\r\n",
        "cpa.enqueue(3, \"Jose\")\r\n",
        "cpa.enqueue(4, \"Mayra\")\r\n",
        "cpa.enqueue(4, \"Elena\")\r\n",
        "print(\" \")\r\n",
        "cpa.to_string()\r\n",
        "print(cpa.dequeue())\r\n",
        "cpa.to_string()"
      ],
      "execution_count": 17,
      "outputs": [
        {
          "output_type": "stream",
          "text": [
            "Nivel 0 --> | \n",
            "Nivel 1 --> | \n",
            "Nivel 2 --> | Diana| \n",
            "Nivel 3 --> | \n",
            "Nivel 4 --> | \n",
            " \n",
            "Nivel 0 --> | Roberto| Pedro| \n",
            "Nivel 1 --> | \n",
            "Nivel 2 --> | Diana| Maria| \n",
            "Nivel 3 --> | Santiago| Jose| \n",
            "Nivel 4 --> | Mayra| Elena| \n",
            "Roberto\n",
            "Nivel 0 --> | Pedro| \n",
            "Nivel 1 --> | \n",
            "Nivel 2 --> | Diana| Maria| \n",
            "Nivel 3 --> | Santiago| Jose| \n",
            "Nivel 4 --> | Mayra| Elena| \n"
          ],
          "name": "stdout"
        }
      ]
    }
  ]
}