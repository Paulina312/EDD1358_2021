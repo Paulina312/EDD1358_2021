{
  "nbformat": 4,
  "nbformat_minor": 0,
  "metadata": {
    "colab": {
      "name": "Tarea 20 de enero_1358.ipynb",
      "provenance": [],
      "collapsed_sections": [],
      "authorship_tag": "ABX9TyNIIaMC+bhoYXYFmqzuhsPz",
      "include_colab_link": true
    },
    "kernelspec": {
      "name": "python3",
      "display_name": "Python 3"
    }
  },
  "cells": [
    {
      "cell_type": "markdown",
      "metadata": {
        "id": "view-in-github",
        "colab_type": "text"
      },
      "source": [
        "<a href=\"https://colab.research.google.com/github/Paulina312/EDD1358_2021/blob/master/Tarea_20_de_enero_1358.ipynb\" target=\"_parent\"><img src=\"https://colab.research.google.com/assets/colab-badge.svg\" alt=\"Open In Colab\"/></a>"
      ]
    },
    {
      "cell_type": "code",
      "metadata": {
        "colab": {
          "base_uri": "https://localhost:8080/"
        },
        "id": "OKfcmbW2wSPF",
        "outputId": "09497a15-4d1c-458a-f3bf-47ac4561a0ed"
      },
      "source": [
        "\"\"\" Suma de los elementos de una lista \"\"\"\r\n",
        "lista = [0,1,2,3,4,5,6,7]\r\n",
        "\r\n",
        "def suma(*numeros):\r\n",
        "  if len(numeros) == 1:\r\n",
        "    return numeros[0]\r\n",
        "  else:\r\n",
        "    return numeros[0]+suma(*numeros[1:])\r\n",
        "\r\n",
        "suma(*lista)"
      ],
      "execution_count": 45,
      "outputs": [
        {
          "output_type": "execute_result",
          "data": {
            "text/plain": [
              "28"
            ]
          },
          "metadata": {
            "tags": []
          },
          "execution_count": 45
        }
      ]
    },
    {
      "cell_type": "code",
      "metadata": {
        "colab": {
          "base_uri": "https://localhost:8080/"
        },
        "id": "w55dMViSyDRD",
        "outputId": "bc16d449-18fe-43e5-f994-eeab8369dce2"
      },
      "source": [
        "\"\"\" Contador regresivo \"\"\"\r\n",
        "def boom(numero):\r\n",
        "  if numero == 0:\r\n",
        "    print(\"Boom!!! la bomba explotó\")\r\n",
        "  else:\r\n",
        "    print(numero)\r\n",
        "    boom(numero-1)\r\n",
        "\r\n",
        "boom(10)"
      ],
      "execution_count": 46,
      "outputs": [
        {
          "output_type": "stream",
          "text": [
            "10\n",
            "9\n",
            "8\n",
            "7\n",
            "6\n",
            "5\n",
            "4\n",
            "3\n",
            "2\n",
            "1\n",
            "Boom!!! la bomba explotó\n"
          ],
          "name": "stdout"
        }
      ]
    },
    {
      "cell_type": "code",
      "metadata": {
        "id": "jPynl-ESnZum"
      },
      "source": [
        "class Stack:\r\n",
        "  def __init__(self):\r\n",
        "    self.__data = []\r\n",
        "    self.__size = 0\r\n",
        "\r\n",
        "  def is_empty(self):\r\n",
        "    return self.__size == 0\r\n",
        "  \r\n",
        "  def lenght(self):\r\n",
        "    return self.__size\r\n",
        "  \r\n",
        "  def pop(self):\r\n",
        "    self.__size -= 1\r\n",
        "    return self.__data.pop()\r\n",
        "  \r\n",
        "  def peek(self):\r\n",
        "    return self.__data[-1]\r\n",
        "  \r\n",
        "  def push(self, value):\r\n",
        "    self.__data.append(value)\r\n",
        "    self.__size += 1\r\n",
        "  \r\n",
        "  def to_string(self):\r\n",
        "    print(\"-----\")\r\n",
        "    for dato in self.__data[::-1]:\r\n",
        "      print(f\"| {dato} |\")\r\n",
        "      print(\"-----\")"
      ],
      "execution_count": 47,
      "outputs": []
    },
    {
      "cell_type": "code",
      "metadata": {
        "id": "vUlgARkDeE0I"
      },
      "source": [
        "\"\"\" Sacar el elemento medio de una pila \"\"\"\r\n",
        "def medio(pila, espera = Stack()):\r\n",
        "  if pila.lenght() == espera.lenght() or pila.lenght() == espera.lenght()+1:\r\n",
        "    pila.pop()\r\n",
        "  else:\r\n",
        "    espera.push(pila.pop())\r\n",
        "    medio(pila, espera)\r\n",
        "    pila.push(espera.pop())"
      ],
      "execution_count": 54,
      "outputs": []
    },
    {
      "cell_type": "code",
      "metadata": {
        "colab": {
          "base_uri": "https://localhost:8080/"
        },
        "id": "TB6_5PJjPwOE",
        "outputId": "1ac3c2cb-071a-462f-d7d3-95fb61ad0dac"
      },
      "source": [
        "pl = Stack()\r\n",
        "pl.push(34)\r\n",
        "pl.push(10)\r\n",
        "pl.push(45)\r\n",
        "pl.push(4)\r\n",
        "pl.push(23)\r\n",
        "pl.push(33)\r\n",
        "pl.to_string()\r\n",
        "medio(pl)\r\n",
        "print(\"\")\r\n",
        "pl.to_string()"
      ],
      "execution_count": 55,
      "outputs": [
        {
          "output_type": "stream",
          "text": [
            "-----\n",
            "| 33 |\n",
            "-----\n",
            "| 23 |\n",
            "-----\n",
            "| 4 |\n",
            "-----\n",
            "| 45 |\n",
            "-----\n",
            "| 10 |\n",
            "-----\n",
            "| 34 |\n",
            "-----\n",
            "\n",
            "-----\n",
            "| 33 |\n",
            "-----\n",
            "| 23 |\n",
            "-----\n",
            "| 4 |\n",
            "-----\n",
            "| 10 |\n",
            "-----\n",
            "| 34 |\n",
            "-----\n"
          ],
          "name": "stdout"
        }
      ]
    },
    {
      "cell_type": "code",
      "metadata": {
        "colab": {
          "base_uri": "https://localhost:8080/"
        },
        "id": "_AhtfakTk8Ij",
        "outputId": "8be84141-f3ab-47dd-a0e7-e1f7e2f9bd38"
      },
      "source": [
        "pl = Stack()\r\n",
        "pl.push(34)\r\n",
        "pl.push(10)\r\n",
        "pl.push(45)\r\n",
        "pl.push(4)\r\n",
        "pl.push(23)\r\n",
        "pl.to_string()\r\n",
        "medio(pl)\r\n",
        "print(\"\")\r\n",
        "pl.to_string()"
      ],
      "execution_count": 56,
      "outputs": [
        {
          "output_type": "stream",
          "text": [
            "-----\n",
            "| 23 |\n",
            "-----\n",
            "| 4 |\n",
            "-----\n",
            "| 45 |\n",
            "-----\n",
            "| 10 |\n",
            "-----\n",
            "| 34 |\n",
            "-----\n",
            "\n",
            "-----\n",
            "| 23 |\n",
            "-----\n",
            "| 4 |\n",
            "-----\n",
            "| 10 |\n",
            "-----\n",
            "| 34 |\n",
            "-----\n"
          ],
          "name": "stdout"
        }
      ]
    }
  ]
}