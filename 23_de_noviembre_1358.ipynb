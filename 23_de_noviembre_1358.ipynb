{
  "nbformat": 4,
  "nbformat_minor": 0,
  "metadata": {
    "colab": {
      "name": "23 de noviembre_1358.ipynb",
      "provenance": [],
      "authorship_tag": "ABX9TyOjUN37A0f+2MXULsaqZSfF",
      "include_colab_link": true
    },
    "kernelspec": {
      "name": "python3",
      "display_name": "Python 3"
    }
  },
  "cells": [
    {
      "cell_type": "markdown",
      "metadata": {
        "id": "view-in-github",
        "colab_type": "text"
      },
      "source": [
        "<a href=\"https://colab.research.google.com/github/Paulina312/EDD1358_2021/blob/master/23_de_noviembre_1358.ipynb\" target=\"_parent\"><img src=\"https://colab.research.google.com/assets/colab-badge.svg\" alt=\"Open In Colab\"/></a>"
      ]
    },
    {
      "cell_type": "code",
      "metadata": {
        "id": "kd3P40H8_dHb"
      },
      "source": [
        "class Nodo:\n",
        "  def __init__(self, dato, siguiente = None):\n",
        "    self.dato = dato\n",
        "    self.siguiente = siguiente\n",
        "\n",
        "class LinkedList:\n",
        "  def __init__(self):\n",
        "    self.__head = None\n",
        "\n",
        "  def is_empty(self):\n",
        "    return self.__head == None\n",
        "  \n",
        "  def get_tail(self):\n",
        "    curr_node = self.__head\n",
        "    while curr_node != None and curr_node.siguiente != None :\n",
        "        curr_node = curr_node.siguiente\n",
        "    return curr_node\n",
        "\n",
        "  def append(self, value):\n",
        "    nuevo = Nodo(value)\n",
        "    if self.__head == None:\n",
        "      self.__head = nuevo\n",
        "    else:\n",
        "      self.get_tail().siguiente = nuevo\n",
        "\n",
        "  def prepend(self, value):\n",
        "    nuevo = Nodo(value, self.__head)\n",
        "    self.__head = nuevo\n",
        "\n",
        "  def transversal(self):\n",
        "    curr_node = self.__head\n",
        "    if curr_node == None: \n",
        "      print(\"Lista vacia\")     #si la lista esta vacia\n",
        "    else:\n",
        "      while curr_node != None:\n",
        "        print(f\"  {curr_node.dato} -->\", end= \"\")\n",
        "        curr_node = curr_node.siguiente\n",
        "    print(\"\")\n",
        "\n",
        "  def remove(self, value):\n",
        "    curr_node = self.__head\n",
        "    while( curr_node != value ):\n",
        "        curr_node = curr_node.siguiente\n",
        "    curr_node = curr_node.siguiente\n",
        "    self.transversal()\n",
        "\n",
        "  def Add_before(self, reference_value, value):\n",
        "    nuevo = Nodo(value)\n",
        "    curr_node = self.__head\n",
        "    while( curr_node.siguiente != reference_value ):\n",
        "        curr_node = curr_node.siguiente\n",
        "    nuevo.siguiente = curr_node.siguiente\n",
        "    curr_node.siguiente = nuevo\n",
        "\n",
        "  def Add_after(self, reference_value, value):\n",
        "    nuevo = Nodo(value)\n",
        "    curr_node = self.__head\n",
        "    while( curr_node != reference_value ):\n",
        "        curr_node = curr_node.siguiente\n",
        "    nuevo.siguiente = curr_node.siguiente\n",
        "    curr_node.siguiente = nuevo\n",
        "\n"
      ],
      "execution_count": 26,
      "outputs": []
    },
    {
      "cell_type": "code",
      "metadata": {
        "colab": {
          "base_uri": "https://localhost:8080/"
        },
        "id": "7ShcX-JS4KX-",
        "outputId": "02d15dbd-5b31-47f6-b4ca-4f7758f44c06"
      },
      "source": [
        "l = LinkedList()\n",
        "print(f\"l esta vacia?= {l.is_empty()}\")\n",
        "x = l.get_tail()\n",
        "print(x)\n",
        "l.append(10)\n",
        "l.append(20)\n",
        "l.append(30)\n",
        "l.append(40)\n",
        "l.transversal()\n",
        "l.prepend(5)\n",
        "l.transversal()\n"
      ],
      "execution_count": 29,
      "outputs": [
        {
          "output_type": "stream",
          "text": [
            "l esta vacia?= True\n",
            "None\n",
            "  10 -->  20 -->  30 -->  40 -->\n",
            "  5 -->  10 -->  20 -->  30 -->  40 -->\n"
          ],
          "name": "stdout"
        }
      ]
    }
  ]
}