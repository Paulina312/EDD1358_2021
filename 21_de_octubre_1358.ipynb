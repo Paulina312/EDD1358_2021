{
  "nbformat": 4,
  "nbformat_minor": 0,
  "metadata": {
    "colab": {
      "name": "21 de octubre_1358.ipynb",
      "provenance": [],
      "authorship_tag": "ABX9TyMzX0uGQpaYwUhTTw1jZlqj",
      "include_colab_link": true
    },
    "kernelspec": {
      "name": "python3",
      "display_name": "Python 3"
    }
  },
  "cells": [
    {
      "cell_type": "markdown",
      "metadata": {
        "id": "view-in-github",
        "colab_type": "text"
      },
      "source": [
        "<a href=\"https://colab.research.google.com/github/Paulina312/EDD1358_2021/blob/master/21_de_octubre_1358.ipynb\" target=\"_parent\"><img src=\"https://colab.research.google.com/assets/colab-badge.svg\" alt=\"Open In Colab\"/></a>"
      ]
    },
    {
      "cell_type": "code",
      "metadata": {
        "id": "EolJJcBpsy8l",
        "outputId": "a723c4e1-2bc6-47a1-ade9-38ab22168986",
        "colab": {
          "base_uri": "https://localhost:8080/",
          "height": 85
        }
      },
      "source": [
        "# Encapsulamiento Tradicional\n",
        "class SmartPhone:\n",
        "  def __init__(self, m):\n",
        "    self.__marca = m\n",
        "    \n",
        "  def set__marca(self, m):\n",
        "    self.__marca = m\n",
        "\n",
        "  def get__marca( self ):\n",
        "    return self.__marca\n",
        "\n",
        "  def to_string( self ):\n",
        "    return \"La marca de teléfono es: \" + self.__marca\n",
        "\n",
        "sp1 = SmartPhone ('Huawei')\n",
        "print( sp1.to_string())\n",
        "sp1.__marca = 'iPhone X'\n",
        "print( sp1.to_string())\n",
        "sp1.set__marca('Samsung')\n",
        "print( sp1.to_string())\n",
        "print( sp1.get__marca()) #solo imprime la marca"
      ],
      "execution_count": 3,
      "outputs": [
        {
          "output_type": "stream",
          "text": [
            "La marca de teléfono es: Huawei\n",
            "La marca de teléfono es: Huawei\n",
            "La marca de teléfono es: Samsung\n",
            "Samsung\n"
          ],
          "name": "stdout"
        }
      ]
    },
    {
      "cell_type": "code",
      "metadata": {
        "id": "se4OPDsJxZIP",
        "outputId": "9380df5a-83fd-47ca-ba8f-c96222ae787b",
        "colab": {
          "base_uri": "https://localhost:8080/",
          "height": 119
        }
      },
      "source": [
        "# Estilo Python 3\n",
        "class SmartPhone:\n",
        "  def __init__( self, m ):\n",
        "    self.marca = m     # llamando al método get\n",
        "\n",
        "  @property\n",
        "  def marca( self ): # 1. define método get y 2. declara self.__marca (3. lo hace privado)\n",
        "    return self.__marca\n",
        "\n",
        "  @marca.setter      # este decorador debe llamarse igual al definido en @property\n",
        "  def marca(self, m):\n",
        "    if m in ['Lenovo', 'Sony', 'Motorola', 'iPhone X', 'Huawei', 'Xiaomi']:\n",
        "      self.__marca = m        # comprueba que sea una marca antes de asignar un valor\n",
        "    else:\n",
        "      print('Asignación no valida')\n",
        "\n",
        "  def to_string( self):\n",
        "    return'Marca = ' + self.marca\n",
        "\n",
        "sp2= SmartPhone('Xiaomi')\n",
        "print(sp2.to_string())  ###1\n",
        "sp2.__marca = 'iPhone X' # 2\n",
        "print(sp2.to_string())         # no lo permite porque esta declarado como privado\n",
        "sp2.marca = 'Motorola' ###3    # invocación del método set (la misma propiedad es el método set y get) \n",
        "print(sp2.to_string())\n",
        "\n",
        "print(sp2.marca)       ###4   #invocación del método get\n",
        "\n",
        "sp2.marca = 'jhsdhdhsb'\n",
        "print(sp2.to_string())"
      ],
      "execution_count": 11,
      "outputs": [
        {
          "output_type": "stream",
          "text": [
            "Marca = Xiaomi\n",
            "Marca = Xiaomi\n",
            "Marca = Motorola\n",
            "Motorola\n",
            "Asignación no valida\n",
            "Marca = Motorola\n"
          ],
          "name": "stdout"
        }
      ]
    },
    {
      "cell_type": "code",
      "metadata": {
        "id": "h349RHZz5EB9",
        "outputId": "d8cc210b-f6a0-41fc-e741-cbe124bb92ff",
        "colab": {
          "base_uri": "https://localhost:8080/",
          "height": 71
        }
      },
      "source": [
        "#  Herencia\n",
        "class telefonoTrabajo(SmartPhone): \n",
        "  def __init__(self, m):\n",
        "    self.marca = m\n",
        "\n",
        "sp3 = telefonoTrabajo('Motorola')\n",
        "print(dir(sp3))\n",
        "print(sp3.to_string())"
      ],
      "execution_count": 14,
      "outputs": [
        {
          "output_type": "stream",
          "text": [
            "['_SmartPhone__marca', '__class__', '__delattr__', '__dict__', '__dir__', '__doc__', '__eq__', '__format__', '__ge__', '__getattribute__', '__gt__', '__hash__', '__init__', '__init_subclass__', '__le__', '__lt__', '__module__', '__ne__', '__new__', '__reduce__', '__reduce_ex__', '__repr__', '__setattr__', '__sizeof__', '__str__', '__subclasshook__', '__weakref__', 'marca', 'to_string']\n",
            "Marca = Motorola\n"
          ],
          "name": "stdout"
        }
      ]
    }
  ]
}