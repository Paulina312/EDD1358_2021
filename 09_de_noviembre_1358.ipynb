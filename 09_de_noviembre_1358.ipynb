{
  "nbformat": 4,
  "nbformat_minor": 0,
  "metadata": {
    "colab": {
      "name": "09 de noviembre_1358.ipynb",
      "provenance": [],
      "authorship_tag": "ABX9TyNnQJhP3SWEFqp6c+bVLiP1",
      "include_colab_link": true
    },
    "kernelspec": {
      "name": "python3",
      "display_name": "Python 3"
    }
  },
  "cells": [
    {
      "cell_type": "markdown",
      "metadata": {
        "id": "view-in-github",
        "colab_type": "text"
      },
      "source": [
        "<a href=\"https://colab.research.google.com/github/Paulina312/EDD1358_2021/blob/master/09_de_noviembre_1358.ipynb\" target=\"_parent\"><img src=\"https://colab.research.google.com/assets/colab-badge.svg\" alt=\"Open In Colab\"/></a>"
      ]
    },
    {
      "cell_type": "code",
      "metadata": {
        "id": "_1x1Vt611HtM",
        "outputId": "0186d6b5-ebaf-4c3e-cd10-bf066d6b67c7",
        "colab": {
          "base_uri": "https://localhost:8080/"
        }
      },
      "source": [
        "class Nodo:\n",
        "  def __init__(self, dato):\n",
        "    self.__dato = dato\n",
        "    self.__siguiente = None\n",
        "  \n",
        "  def get_dato(self):\n",
        "    return self.__dato\n",
        "\n",
        "  def set_dato(self, d):\n",
        "    self.__dato = d\n",
        "\n",
        "  def get_siguiente(self):\n",
        "    return self.__siguiente\n",
        "\n",
        "  def set_siguiente(self, d):\n",
        "    self.__siguiente = d\n",
        "\n",
        "  def show( self ):\n",
        "       curr_node = self # Head\n",
        "       print(\" Inicio de la estructura ligada:\")\n",
        "       print(\"|\" + str(curr_node.get_dato()) + \"| -->\" , end =\"\" )\n",
        "       while( curr_node.get_siguiente() != None ):\n",
        "           curr_node = curr_node.get_siguiente()\n",
        "           print(\"|\" + str(curr_node.get_dato() ) + \"| -->\" , end =\"\" )\n",
        "       print(\"\\nFin\")\n",
        "  \n",
        "  #def show(self):\n",
        "    # return \" | \"+str(self.__dato) + \" | \"+ str(self.__siguiente)+ \" | -->\"\n",
        "\n",
        "\n",
        "# Ejemplo:\n",
        "\n",
        "a = Nodo(10)\n",
        "a.show()\n",
        "\n",
        "#Ejemplo 2:\n",
        "a.set_siguiente(20)\n",
        "a.show\n",
        "\n",
        "#Ejemplo 3:"
      ],
      "execution_count": 20,
      "outputs": [
        {
          "output_type": "stream",
          "text": [
            " Inicio de la estructura ligada:\n",
            "|10| -->\n",
            "Fin\n"
          ],
          "name": "stdout"
        },
        {
          "output_type": "execute_result",
          "data": {
            "text/plain": [
              "<bound method Nodo.show of <__main__.Nodo object at 0x7ffa24f3d908>>"
            ]
          },
          "metadata": {
            "tags": []
          },
          "execution_count": 20
        }
      ]
    }
  ]
}