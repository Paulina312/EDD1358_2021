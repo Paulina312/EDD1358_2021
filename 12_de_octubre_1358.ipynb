{
  "nbformat": 4,
  "nbformat_minor": 0,
  "metadata": {
    "colab": {
      "name": "12 de octubre_1358.ipynb",
      "provenance": [],
      "authorship_tag": "ABX9TyMT8fde2rSJQ0U2SmShZtSw",
      "include_colab_link": true
    },
    "kernelspec": {
      "name": "python3",
      "display_name": "Python 3"
    }
  },
  "cells": [
    {
      "cell_type": "markdown",
      "metadata": {
        "id": "view-in-github",
        "colab_type": "text"
      },
      "source": [
        "<a href=\"https://colab.research.google.com/github/Paulina312/EDD1358_2021/blob/master/12_de_octubre_1358.ipynb\" target=\"_parent\"><img src=\"https://colab.research.google.com/assets/colab-badge.svg\" alt=\"Open In Colab\"/></a>"
      ]
    },
    {
      "cell_type": "code",
      "metadata": {
        "id": "nOmmI7teWFaZ",
        "outputId": "1cb86f1a-2f43-4a08-bb6c-b04940223c08",
        "colab": {
          "base_uri": "https://localhost:8080/",
          "height": 122
        }
      },
      "source": [
        "# diccionarios continuación\n",
        "\n",
        "cliente_banco = {\n",
        "    \"id\": 1,\n",
        "    \"nombres\":[\"Juan\", \"Antonio\"], # NO OLVIDAR comas!!!!!\n",
        "    \"paterno\":\"García\",\n",
        "    \"materno\":\"Pérez\",\n",
        "    \"telefonos\":{\n",
        "        \"casa\":5566778899,\n",
        "        \"celular\":5544332211,\n",
        "        \"trabajo\":5566223311,\n",
        "                 },\n",
        "    \"activo\": True,\n",
        "    \"balance\": 234567.89,\n",
        "    #se podrían usar tuplas o listas, usaremos tuplas esta vez\n",
        "    #vamos a poner un diccionario por tarjeta, porque son varios valores\n",
        "    \"tarjetas\":({\"tipo\":\"debito\", \"saldo\":12000}, {\"tipo\":\"debito\", \"saldo\":3500.00})\n",
        "    }\n",
        "print(cliente_banco)\n",
        "#cliente_banco[\"balance\"]=cliente_banco[\"balance\"]-1000.89 (son equivalentes)\n",
        "cliente_banco[\"balance\"]-=1000.89\n",
        "\n",
        "print(cliente_banco)\n",
        "cliente_banco[\"tarjetas\"] = ({\"tipo\":\"debito\", \"saldo\":12000}, \n",
        "                             {\"tipo\":\"debito\", \"saldo\":3500.00}, \n",
        "                             {\"tipo\":\"debito\", \"nivel\": \"oro\", \"saldo\":5000})\n",
        "print(cliente_banco) #la tupla no se modifica pero puede sustituir por completo\n",
        "cliente_banco[\"dirección\"]={\"calle\": \"rancho seco\", \"num\":23}\n",
        "print(cliente_banco)\n",
        "cliente_banco.pop(\"tarjetas\")\n",
        "print(cliente_banco)\n",
        "#items keys y values\n"
      ],
      "execution_count": 14,
      "outputs": [
        {
          "output_type": "stream",
          "text": [
            "{'id': 1, 'nombres': ['Juan', 'Antonio'], 'paterno': 'García', 'materno': 'Pérez', 'telefonos': {'casa': 5566778899, 'celular': 5544332211, 'trabajo': 5566223311}, 'activo': True, 'balance': 234567.89, 'tarjetas': ({'tipo': 'debito', 'saldo': 12000}, {'tipo': 'debito', 'saldo': 3500.0})}\n",
            "{'id': 1, 'nombres': ['Juan', 'Antonio'], 'paterno': 'García', 'materno': 'Pérez', 'telefonos': {'casa': 5566778899, 'celular': 5544332211, 'trabajo': 5566223311}, 'activo': True, 'balance': 233567.0, 'tarjetas': ({'tipo': 'debito', 'saldo': 12000}, {'tipo': 'debito', 'saldo': 3500.0})}\n",
            "{'id': 1, 'nombres': ['Juan', 'Antonio'], 'paterno': 'García', 'materno': 'Pérez', 'telefonos': {'casa': 5566778899, 'celular': 5544332211, 'trabajo': 5566223311}, 'activo': True, 'balance': 233567.0, 'tarjetas': ({'tipo': 'debito', 'saldo': 12000}, {'tipo': 'debito', 'saldo': 3500.0}, {'tipo': 'debito', 'nivel': 'oro', 'saldo': 5000})}\n",
            "{'id': 1, 'nombres': ['Juan', 'Antonio'], 'paterno': 'García', 'materno': 'Pérez', 'telefonos': {'casa': 5566778899, 'celular': 5544332211, 'trabajo': 5566223311}, 'activo': True, 'balance': 233567.0, 'tarjetas': ({'tipo': 'debito', 'saldo': 12000}, {'tipo': 'debito', 'saldo': 3500.0}, {'tipo': 'debito', 'nivel': 'oro', 'saldo': 5000}), 'dirección': {'calle': 'rancho seco', 'num': 23}}\n",
            "{'id': 1, 'nombres': ['Juan', 'Antonio'], 'paterno': 'García', 'materno': 'Pérez', 'telefonos': {'casa': 5566778899, 'celular': 5544332211, 'trabajo': 5566223311}, 'activo': True, 'balance': 233567.0, 'dirección': {'calle': 'rancho seco', 'num': 23}}\n"
          ],
          "name": "stdout"
        }
      ]
    },
    {
      "cell_type": "code",
      "metadata": {
        "id": "6jvOJkjJcbuY",
        "outputId": "5c5422b1-8639-460d-b31e-daa88bed0bb9",
        "colab": {
          "base_uri": "https://localhost:8080/",
          "height": 530
        }
      },
      "source": [
        "#KEYS\n",
        "llaves = cliente_banco.keys()\n",
        "print(llaves)\n",
        "print(type(llaves))\n",
        "for x in llaves:\n",
        "  print(x)\n",
        "\n",
        "#VALUES\n",
        "valores=cliente_banco.values()\n",
        "print(valores)\n",
        "for v in valores:\n",
        "  print(v)\n",
        "\n",
        "#ITEMS\n",
        "pares = cliente_banco.items()\n",
        "# te imprime una lista de tuplas [(key, value), (key,value)...]\n",
        "print(pares)\n",
        "print(\"------------------\")\n",
        "for elem in pares:\n",
        "  print(f\"{elem[0]}={elem[1]}\") #para f\"...\" no olvidar  '''{}''' !!!"
      ],
      "execution_count": 21,
      "outputs": [
        {
          "output_type": "stream",
          "text": [
            "dict_keys(['id', 'nombres', 'paterno', 'materno', 'telefonos', 'activo', 'balance', 'dirección'])\n",
            "<class 'dict_keys'>\n",
            "id\n",
            "nombres\n",
            "paterno\n",
            "materno\n",
            "telefonos\n",
            "activo\n",
            "balance\n",
            "dirección\n",
            "dict_values([1, ['Juan', 'Antonio'], 'García', 'Pérez', {'casa': 5566778899, 'celular': 5544332211, 'trabajo': 5566223311}, True, 233567.0, {'calle': 'rancho seco', 'num': 23}])\n",
            "1\n",
            "['Juan', 'Antonio']\n",
            "García\n",
            "Pérez\n",
            "{'casa': 5566778899, 'celular': 5544332211, 'trabajo': 5566223311}\n",
            "True\n",
            "233567.0\n",
            "{'calle': 'rancho seco', 'num': 23}\n",
            "dict_items([('id', 1), ('nombres', ['Juan', 'Antonio']), ('paterno', 'García'), ('materno', 'Pérez'), ('telefonos', {'casa': 5566778899, 'celular': 5544332211, 'trabajo': 5566223311}), ('activo', True), ('balance', 233567.0), ('dirección', {'calle': 'rancho seco', 'num': 23})])\n",
            "------------------\n",
            "id=1\n",
            "nombres=['Juan', 'Antonio']\n",
            "paterno=García\n",
            "materno=Pérez\n",
            "telefonos={'casa': 5566778899, 'celular': 5544332211, 'trabajo': 5566223311}\n",
            "activo=True\n",
            "balance=233567.0\n",
            "dirección={'calle': 'rancho seco', 'num': 23}\n"
          ],
          "name": "stdout"
        }
      ]
    },
    {
      "cell_type": "code",
      "metadata": {
        "id": "LuY_bZ1-g91c",
        "outputId": "66f0e3c0-d266-463b-8987-71d4628a649f",
        "colab": {
          "base_uri": "https://localhost:8080/",
          "height": 34
        }
      },
      "source": [
        "fruta ={\"nombre\": \"manzana\", \"color\":\"rojo\", \"estado\":\"Chihuahua\"}\n",
        "otras_características={\"vitamina\":\"D\"}\n",
        "fruta.update(otras_características)\n",
        "print(fruta)"
      ],
      "execution_count": 22,
      "outputs": [
        {
          "output_type": "stream",
          "text": [
            "{'nombre': 'manzana', 'color': 'rojo', 'estado': 'Chihuahua', 'vitamina': 'D'}\n"
          ],
          "name": "stdout"
        }
      ]
    },
    {
      "cell_type": "markdown",
      "metadata": {
        "id": "LsEpdClfiP-2"
      },
      "source": [
        "#Funciones\n",
        "- recibe de 0 a n argumentos de entrada.\n",
        "- regresa solo un valor, aunque ese valor se None/Null/Void (según el prog.)\n",
        "- tiene un nombre único en el contexto.\n",
        "- sepueden hacer solo dos cosas con funciones:\n",
        " - definirla\n",
        " - llamarla "
      ]
    },
    {
      "cell_type": "code",
      "metadata": {
        "id": "0wEAg8aDjHSN",
        "outputId": "8af851a6-e5cc-44a0-bb70-417172d46f30",
        "colab": {
          "base_uri": "https://localhost:8080/",
          "height": 51
        }
      },
      "source": [
        "def suma(a,b):\n",
        "  return a+b\n",
        "#si se pone una segunda se módifica\n",
        "#def suma(x,y):\n",
        "#  return None\n",
        "def saludar():\n",
        "  print(\"Hola, ¿Cómo estas?\")\n",
        "  return None #lo mejor es ponerlo, para futuro mantenimiento, pero sino se pone nada igual eso regresa\n",
        "x=10\n",
        "y=20\n",
        "c= suma(x,y)\n",
        "print(c)\n",
        "saludar()"
      ],
      "execution_count": 26,
      "outputs": [
        {
          "output_type": "stream",
          "text": [
            "30\n",
            "Hola, ¿Cómo estas?\n"
          ],
          "name": "stdout"
        }
      ]
    },
    {
      "cell_type": "markdown",
      "metadata": {
        "id": "MXve-2VSkuos"
      },
      "source": [
        "#None y las funciones\n",
        "Aprovechar el uso de none en paso de parametros."
      ]
    },
    {
      "cell_type": "code",
      "metadata": {
        "id": "tKn3oOlsk6aE",
        "outputId": "4756a51f-86e8-407e-eeed-a5947600eb3c",
        "colab": {
          "base_uri": "https://localhost:8080/",
          "height": 68
        }
      },
      "source": [
        "def calcular(base, veces):\n",
        "  resultado=base * veces\n",
        "  return resultado\n",
        "\n",
        "print(calcular(4,3))\n",
        "\n",
        "#print(calcular(None,3))=error\n",
        "def calcular(base, veces):\n",
        "  if base !=None:\n",
        "    resultado=base * veces\n",
        "  else:\n",
        "      resultado=\"desconocido\"\n",
        "  return resultado\n",
        "\n",
        "print(calcular(4,3))\n",
        "print(calcular(None,3))\n",
        "#checar funciones"
      ],
      "execution_count": 33,
      "outputs": [
        {
          "output_type": "stream",
          "text": [
            "12\n",
            "12\n",
            "desconocido\n"
          ],
          "name": "stdout"
        }
      ]
    }
  ]
}