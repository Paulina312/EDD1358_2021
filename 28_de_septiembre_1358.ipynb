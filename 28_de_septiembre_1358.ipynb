{
  "nbformat": 4,
  "nbformat_minor": 0,
  "metadata": {
    "colab": {
      "name": "28 de septiembre_1358.ipynb",
      "provenance": [],
      "toc_visible": true,
      "authorship_tag": "ABX9TyOvrQdAmKaNM7XxcAeQZKr6",
      "include_colab_link": true
    },
    "kernelspec": {
      "name": "python3",
      "display_name": "Python 3"
    }
  },
  "cells": [
    {
      "cell_type": "markdown",
      "metadata": {
        "id": "view-in-github",
        "colab_type": "text"
      },
      "source": [
        "<a href=\"https://colab.research.google.com/github/Paulina312/EDD1358_2021/blob/master/28_de_septiembre_1358.ipynb\" target=\"_parent\"><img src=\"https://colab.research.google.com/assets/colab-badge.svg\" alt=\"Open In Colab\"/></a>"
      ]
    },
    {
      "cell_type": "code",
      "metadata": {
        "id": "4Yp35q1lXJCp"
      },
      "source": [
        "print (\"Hola colab research\")\n",
        "nombre = \"EDO\""
      ],
      "execution_count": null,
      "outputs": []
    },
    {
      "cell_type": "code",
      "metadata": {
        "id": "nRrQK1QjYlZ7"
      },
      "source": [
        "print(nombre)"
      ],
      "execution_count": null,
      "outputs": []
    },
    {
      "cell_type": "markdown",
      "metadata": {
        "id": "NijhEwxBZv7h"
      },
      "source": [
        "# Hola esto es un encabezado\n",
        "## Encabezado nivel 2\n",
        "### Síntaxis Markdown\n",
        "* elem 1\n",
        "* elem 2\n",
        "* elem 3\n",
        "1. fresa\n",
        "1. manzana\n",
        "1. pera\n",
        "\n",
        "esto es un texto largo y quiero **negritas** y también *itálica*. \n",
        "[Ir a google](https://www.google.com)\n",
        "\n",
        "\n"
      ]
    },
    {
      "cell_type": "code",
      "metadata": {
        "id": "ny7_RrWob_GH"
      },
      "source": [
        "class Silla() :\n",
        "  def __init__(self):\n",
        "    self.material = \"\"\n",
        "    self.color = \"\"\n",
        "    \n",
        "  def to_string(self):\n",
        "    print( \"--------\")\n",
        "    print( f\" Material: {self.material } \" )\n",
        "    print( f\" {self.color} ------\" )"
      ],
      "execution_count": null,
      "outputs": []
    },
    {
      "cell_type": "code",
      "metadata": {
        "id": "Q6oJaQQTeV-4",
        "outputId": "0705a66a-c843-403d-db1a-a6422ee14ecb",
        "colab": {
          "base_uri": "https://localhost:8080/",
          "height": 68
        }
      },
      "source": [
        "obj = Silla()\n",
        "obj.material = \"Madera\"\n",
        "obj.color = \"Rojo\"\n",
        "obj.to_string()"
      ],
      "execution_count": null,
      "outputs": [
        {
          "output_type": "stream",
          "text": [
            "--------\n",
            " Material: Madera \n",
            " Rojo ------\n"
          ],
          "name": "stdout"
        }
      ]
    }
  ]
}