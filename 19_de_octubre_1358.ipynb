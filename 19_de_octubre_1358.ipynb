{
  "nbformat": 4,
  "nbformat_minor": 0,
  "metadata": {
    "colab": {
      "name": "19 de octubre_1358.ipynb",
      "provenance": [],
      "authorship_tag": "ABX9TyPh7kZzbi1Lcd14DpueeWtd",
      "include_colab_link": true
    },
    "kernelspec": {
      "name": "python3",
      "display_name": "Python 3"
    }
  },
  "cells": [
    {
      "cell_type": "markdown",
      "metadata": {
        "id": "view-in-github",
        "colab_type": "text"
      },
      "source": [
        "<a href=\"https://colab.research.google.com/github/Paulina312/EDD1358_2021/blob/master/19_de_octubre_1358.ipynb\" target=\"_parent\"><img src=\"https://colab.research.google.com/assets/colab-badge.svg\" alt=\"Open In Colab\"/></a>"
      ]
    },
    {
      "cell_type": "code",
      "metadata": {
        "id": "Ls7MDBfiZ70w",
        "outputId": "0d3d5147-c7ff-4e7b-f149-6b5c8c072587",
        "colab": {
          "base_uri": "https://localhost:8080/",
          "height": 85
        }
      },
      "source": [
        "# lectura de archivos ---> 1. read()\n",
        "archivo = open('frutas.txt', 'rt')\n",
        "\n",
        "data = archivo.read()\n",
        "print(data.upper())\n",
        "archivo.close()"
      ],
      "execution_count": 4,
      "outputs": [
        {
          "output_type": "stream",
          "text": [
            "LIMON, AGUACATE, FRESA, MANZANA \n",
            "CIRUELA, CAPULIN, NARANJA\n",
            "PERA, KIWI\n",
            "\n"
          ],
          "name": "stdout"
        }
      ]
    },
    {
      "cell_type": "code",
      "metadata": {
        "id": "pjWajchaeBXK",
        "outputId": "71ad3d4f-d393-4760-c8b6-0a7faf5dd49c",
        "colab": {
          "base_uri": "https://localhost:8080/",
          "height": 119
        }
      },
      "source": [
        "# lectura de archivos ---> 2. readline()\n",
        "archivo = open('frutas.txt', 'rt')\n",
        "\n",
        "#print(archivo.readline())  cuando se repite el comando lee la sig linea\n",
        "#print(archivo.readline())  print tiene su propio salto de linea \n",
        "\n",
        "#para automatizarlo:\n",
        "data= archivo.readline()\n",
        "while data != \"\":\n",
        "  print(data)\n",
        "  data = archivo.readline()\n",
        "  \n",
        "archivo.close() # se cierra el archivo para liberar memoria"
      ],
      "execution_count": 12,
      "outputs": [
        {
          "output_type": "stream",
          "text": [
            "limon, aguacate, fresa, manzana \n",
            "\n",
            "ciruela, capulin, naranja\n",
            "\n",
            "pera, kiwi\n",
            "\n"
          ],
          "name": "stdout"
        }
      ]
    },
    {
      "cell_type": "code",
      "metadata": {
        "id": "BRj-eRHvgD20",
        "outputId": "4ea1f83d-cf4b-4703-8426-fb2dd22f8d12",
        "colab": {
          "base_uri": "https://localhost:8080/",
          "height": 51
        }
      },
      "source": [
        "# lectura de archivos ---> 3. readlines()\n",
        "archivo = open('frutas.txt', 'rt')\n",
        "\n",
        "data = archivo.readlines() # lo convierte en una lista [,,,] elemento por linea\n",
        "print(data)\n",
        "\n",
        "#####limpiando el archivo\n",
        "frutas = []\n",
        "for linea in data:\n",
        "  frutas.append(linea.strip()) #eliminamos salto de linea\n",
        "\n",
        "frutas_final = []\n",
        "for elem in frutas:\n",
        "  for fruta in elem.split(','): #eliminamos ,'s\n",
        "    frutas_final.append(fruta.strip()) #dividimos por espacios\n",
        "\n",
        "print(frutas_final)\n",
        "archivo.close()"
      ],
      "execution_count": 18,
      "outputs": [
        {
          "output_type": "stream",
          "text": [
            "['limon, aguacate, fresa, manzana \\n', 'ciruela, capulin, naranja\\n', 'pera, kiwi\\n']\n",
            "['limon', 'aguacate', 'fresa', 'manzana', 'ciruela', 'capulin', 'naranja', 'pera', 'kiwi']\n"
          ],
          "name": "stdout"
        }
      ]
    },
    {
      "cell_type": "markdown",
      "metadata": {
        "id": "o63zTBI8lICE"
      },
      "source": [
        "# POO con python\n",
        "- clase\n",
        "- objetos\n",
        "- atributos\n",
        "- métodos\n",
        "- método constructor\n",
        "- encapsulamiento (público y privado)\n",
        "- herencia\n",
        "\n",
        "Para declarar clases en python se usa la palabra reservada Class"
      ]
    },
    {
      "cell_type": "code",
      "metadata": {
        "id": "GPQ7alzzlxvq",
        "outputId": "25f85a79-77a4-49bf-d6d4-be5c9ac59a40",
        "colab": {
          "base_uri": "https://localhost:8080/",
          "height": 51
        }
      },
      "source": [
        "class Persona: #Python no fue pensado para ser POO pero lo adaptaron agregando el self (actua sobre si mismo)\n",
        "  def __init__( self, edd, est ): # poner 2 guiones bajos\n",
        "    self.__edad = edd #<--Para hacerlo privado basta con agregar 2 guiones bajo antes del nombre :)\n",
        "    self.__estatura = est\n",
        "\n",
        "  def to_string( self ): #MO OLVIDAR SELF\n",
        "    print(f\"Edad={self.__edad}, est={self.__estatura}\")\n",
        "\n",
        "per1 = Persona(23, 1.78)\n",
        "per1.to_string()\n",
        "per1.__estatura = 10.4 # viola el principio de encapsulamiento  falta hacerlos privados y formular los get's y set's\n",
        "per1.to_string()       # ya privada no se modifica"
      ],
      "execution_count": 32,
      "outputs": [
        {
          "output_type": "stream",
          "text": [
            "Edad=23, est=1.78\n",
            "Edad=23, est=1.78\n"
          ],
          "name": "stdout"
        }
      ]
    }
  ]
}